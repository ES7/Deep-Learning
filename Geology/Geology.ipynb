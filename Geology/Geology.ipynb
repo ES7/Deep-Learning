{
  "cells": [
    {
      "cell_type": "code",
      "execution_count": 1,
      "id": "eb89acc8",
      "metadata": {
        "id": "eb89acc8"
      },
      "outputs": [],
      "source": [
        "import os\n",
        "import torch\n",
        "import torchvision.transforms as transforms\n",
        "from PIL import Image"
      ]
    },
    {
      "cell_type": "markdown",
      "source": [
        "https://www.kaggle.com/datasets/salmaneunus/rock-classification\n",
        "\n",
        "https://www.kaggle.com/datasets/tanyadayanand/geological-image-similarity"
      ],
      "metadata": {
        "id": "ZhZ69GClIcY8"
      },
      "id": "ZhZ69GClIcY8"
    },
    {
      "cell_type": "code",
      "source": [
        "!pip install opendatasets --upgrade --quiet\n",
        "import opendatasets as od"
      ],
      "metadata": {
        "id": "L8fFB6rLIhZ4"
      },
      "id": "L8fFB6rLIhZ4",
      "execution_count": 2,
      "outputs": []
    },
    {
      "cell_type": "code",
      "source": [
        "ds_url = 'https://www.kaggle.com/datasets/tanyadayanand/geological-image-similarity'\n",
        "od.download(ds_url)"
      ],
      "metadata": {
        "colab": {
          "base_uri": "https://localhost:8080/"
        },
        "id": "9PhPTasjIhQk",
        "outputId": "1846b374-7782-48eb-a523-180d04bb266f"
      },
      "id": "9PhPTasjIhQk",
      "execution_count": 3,
      "outputs": [
        {
          "output_type": "stream",
          "name": "stdout",
          "text": [
            "Please provide your Kaggle credentials to download this dataset. Learn more: http://bit.ly/kaggle-creds\n",
            "Your Kaggle username: ebadsayed\n",
            "Your Kaggle Key: ··········\n",
            "Downloading geological-image-similarity.zip to ./geological-image-similarity\n"
          ]
        },
        {
          "output_type": "stream",
          "name": "stderr",
          "text": [
            "100%|██████████| 33.6M/33.6M [00:02<00:00, 13.0MB/s]\n"
          ]
        },
        {
          "output_type": "stream",
          "name": "stdout",
          "text": [
            "\n"
          ]
        }
      ]
    },
    {
      "cell_type": "code",
      "execution_count": 4,
      "id": "a6753b71",
      "metadata": {
        "id": "a6753b71"
      },
      "outputs": [],
      "source": [
        "data_dir = './geological-image-similarity/geological_similarity'"
      ]
    },
    {
      "cell_type": "code",
      "source": [
        "import os\n",
        "os.listdir(data_dir)"
      ],
      "metadata": {
        "colab": {
          "base_uri": "https://localhost:8080/"
        },
        "id": "rVS7f6UcIxOl",
        "outputId": "a1186911-a89e-4a9e-9621-4919a0591d60"
      },
      "id": "rVS7f6UcIxOl",
      "execution_count": 5,
      "outputs": [
        {
          "output_type": "execute_result",
          "data": {
            "text/plain": [
              "['andesite', 'gneiss', 'schist', 'quartzite', 'rhyolite', 'marble']"
            ]
          },
          "metadata": {},
          "execution_count": 5
        }
      ]
    },
    {
      "cell_type": "code",
      "execution_count": 6,
      "id": "37a6162b",
      "metadata": {
        "colab": {
          "base_uri": "https://localhost:8080/"
        },
        "id": "37a6162b",
        "outputId": "eef706aa-d437-4037-b106-90c7248509a2"
      },
      "outputs": [
        {
          "output_type": "execute_result",
          "data": {
            "text/plain": [
              "51"
            ]
          },
          "metadata": {},
          "execution_count": 6
        }
      ],
      "source": [
        "len(data_dir)"
      ]
    },
    {
      "cell_type": "code",
      "execution_count": 7,
      "id": "a19f4ca7",
      "metadata": {
        "id": "a19f4ca7"
      },
      "outputs": [],
      "source": [
        "from torchvision.datasets import ImageFolder"
      ]
    },
    {
      "cell_type": "code",
      "execution_count": 8,
      "id": "47ed123f",
      "metadata": {
        "id": "47ed123f"
      },
      "outputs": [],
      "source": [
        "ds = ImageFolder(data_dir)"
      ]
    },
    {
      "cell_type": "code",
      "execution_count": 9,
      "id": "823566db",
      "metadata": {
        "id": "823566db",
        "colab": {
          "base_uri": "https://localhost:8080/"
        },
        "outputId": "d931f8e8-76f8-45ab-e0c4-7b296c1fd884"
      },
      "outputs": [
        {
          "output_type": "execute_result",
          "data": {
            "text/plain": [
              "29998"
            ]
          },
          "metadata": {},
          "execution_count": 9
        }
      ],
      "source": [
        "len(ds)"
      ]
    },
    {
      "cell_type": "code",
      "source": [
        "# from google.colab import drive\n",
        "# drive.mount('/content/drive')"
      ],
      "metadata": {
        "id": "_EgNj1SkIOQI"
      },
      "id": "_EgNj1SkIOQI",
      "execution_count": 10,
      "outputs": []
    },
    {
      "cell_type": "code",
      "execution_count": 11,
      "id": "83c60513",
      "metadata": {
        "id": "83c60513",
        "colab": {
          "base_uri": "https://localhost:8080/"
        },
        "outputId": "3b7279cf-aa02-4e0a-b6b8-a61290933246"
      },
      "outputs": [
        {
          "output_type": "execute_result",
          "data": {
            "text/plain": [
              "(<PIL.Image.Image image mode=RGB size=28x28 at 0x7F392A4C4340>, 0)"
            ]
          },
          "metadata": {},
          "execution_count": 11
        }
      ],
      "source": [
        "ds[0]"
      ]
    },
    {
      "cell_type": "code",
      "execution_count": 12,
      "id": "fdc64626",
      "metadata": {
        "id": "fdc64626",
        "colab": {
          "base_uri": "https://localhost:8080/"
        },
        "outputId": "14681d15-a535-4416-f10b-da01344f7ab1"
      },
      "outputs": [
        {
          "output_type": "execute_result",
          "data": {
            "text/plain": [
              "['andesite', 'gneiss', 'marble', 'quartzite', 'rhyolite', 'schist']"
            ]
          },
          "metadata": {},
          "execution_count": 12
        }
      ],
      "source": [
        "ds.classes"
      ]
    },
    {
      "cell_type": "code",
      "execution_count": 13,
      "id": "0da952b7",
      "metadata": {
        "id": "0da952b7"
      },
      "outputs": [],
      "source": [
        "import matplotlib.pyplot as plt\n",
        "%matplotlib inline"
      ]
    },
    {
      "cell_type": "code",
      "execution_count": 14,
      "id": "b669ab19",
      "metadata": {
        "id": "b669ab19",
        "colab": {
          "base_uri": "https://localhost:8080/",
          "height": 282
        },
        "outputId": "9e65c65e-7de5-4dd4-b7f3-041032c7619b"
      },
      "outputs": [
        {
          "output_type": "execute_result",
          "data": {
            "text/plain": [
              "<matplotlib.image.AxesImage at 0x7f392a479340>"
            ]
          },
          "metadata": {},
          "execution_count": 14
        },
        {
          "output_type": "display_data",
          "data": {
            "text/plain": [
              "<Figure size 432x288 with 1 Axes>"
            ],
            "image/png": "[encoded data removed]"
          },
          "metadata": {
            "needs_background": "light"
          }
        }
      ],
      "source": [
        "img, label = ds[0]\n",
        "plt.imshow(img)"
      ]
    },
    {
      "cell_type": "code",
      "execution_count": 15,
      "id": "78005a4b",
      "metadata": {
        "id": "78005a4b"
      },
      "outputs": [],
      "source": [
        "import torchvision.transforms as tt\n",
        "\n",
        "ds = ImageFolder(data_dir, tt.Compose([tt.Resize(64),\n",
        "                                      tt.RandomCrop(64),\n",
        "                                      tt.ToTensor()]))"
      ]
    },
    {
      "cell_type": "code",
      "execution_count": 16,
      "id": "bbd840b5",
      "metadata": {
        "id": "bbd840b5",
        "colab": {
          "base_uri": "https://localhost:8080/",
          "height": 285
        },
        "outputId": "224519c9-0abf-4231-9165-ef19d01a8088"
      },
      "outputs": [
        {
          "output_type": "execute_result",
          "data": {
            "text/plain": [
              "<matplotlib.image.AxesImage at 0x7f3923eaa940>"
            ]
          },
          "metadata": {},
          "execution_count": 16
        },
        {
          "output_type": "display_data",
          "data": {
            "text/plain": [
              "<Figure size 432x288 with 1 Axes>"
            ],
            "image/png": "[encoded data removed]"
          },
          "metadata": {
            "needs_background": "light"
          }
        }
      ],
      "source": [
        "img, label = ds[0]\n",
        "plt.imshow(img.permute((1,2,0)))"
      ]
    },
    {
      "cell_type": "code",
      "execution_count": 17,
      "id": "0295fd4b",
      "metadata": {
        "id": "0295fd4b",
        "colab": {
          "base_uri": "https://localhost:8080/"
        },
        "outputId": "e68a9fe6-c29d-4851-b6b7-4848204fee27"
      },
      "outputs": [
        {
          "output_type": "execute_result",
          "data": {
            "text/plain": [
              "(26999, 2999)"
            ]
          },
          "metadata": {},
          "execution_count": 17
        }
      ],
      "source": [
        "val_pct = 0.1                     # Validation Percentage\n",
        "val_size = int(val_pct * len(ds)) # Validation Size\n",
        "train_size = len(ds) - val_size\n",
        "train_size, val_size"
      ]
    },
    {
      "cell_type": "code",
      "execution_count": 18,
      "id": "daf00403",
      "metadata": {
        "id": "daf00403",
        "colab": {
          "base_uri": "https://localhost:8080/"
        },
        "outputId": "7c8aef86-adbd-48ba-e949-c6422271cda9"
      },
      "outputs": [
        {
          "output_type": "execute_result",
          "data": {
            "text/plain": [
              "(26999, 2999)"
            ]
          },
          "metadata": {},
          "execution_count": 18
        }
      ],
      "source": [
        "from torch.utils.data import random_split\n",
        "train_ds, val_ds = random_split(ds, [train_size, val_size])\n",
        "len(train_ds), len(val_ds)"
      ]
    },
    {
      "cell_type": "code",
      "execution_count": 19,
      "id": "b248fffa",
      "metadata": {
        "id": "b248fffa",
        "colab": {
          "base_uri": "https://localhost:8080/"
        },
        "outputId": "b594fb01-b79f-4536-8f58-653cdb8a176e"
      },
      "outputs": [
        {
          "output_type": "stream",
          "name": "stderr",
          "text": [
            "/usr/local/lib/python3.9/dist-packages/torch/utils/data/dataloader.py:554: UserWarning: This DataLoader will create 4 worker processes in total. Our suggested max number of worker in current system is 2, which is smaller than what this DataLoader is going to create. Please be aware that excessive worker creation might get DataLoader running slow or even freeze, lower the worker number to avoid potential slowness/freeze if necessary.\n",
            "  warnings.warn(_create_warning_msg(\n"
          ]
        }
      ],
      "source": [
        "batch_size = 32\n",
        "\n",
        "from torch.utils.data import DataLoader\n",
        "\n",
        "train_dl = DataLoader(train_ds,\n",
        "                      batch_size,\n",
        "                      shuffle=True,\n",
        "                      num_workers=4,\n",
        "                      pin_memory=True)\n",
        "\n",
        "val_dl = DataLoader(val_ds,\n",
        "                      batch_size,\n",
        "                      shuffle=True,\n",
        "                      num_workers=4,\n",
        "                      pin_memory=True)"
      ]
    },
    {
      "cell_type": "code",
      "execution_count": 20,
      "id": "e0a2ed6b",
      "metadata": {
        "id": "e0a2ed6b"
      },
      "outputs": [],
      "source": [
        "from torchvision.utils import make_grid\n",
        "\n",
        "def show_batch(dl):\n",
        "  for images, labels in dl:\n",
        "    fig, ax = plt.subplots(figsize=(12,6))\n",
        "    ax.set_xticks([]); ax.set_yticks([])\n",
        "    ax.imshow(make_grid(images, nrow=16).permute(1,2,0))\n",
        "    break"
      ]
    },
    {
      "cell_type": "code",
      "execution_count": 21,
      "id": "be119379",
      "metadata": {
        "id": "be119379",
        "colab": {
          "base_uri": "https://localhost:8080/",
          "height": 119
        },
        "outputId": "1d4a6bd5-1831-42c8-b4a4-0af228fe5fa1"
      },
      "outputs": [
        {
          "output_type": "display_data",
          "data": {
            "text/plain": [
              "<Figure size 864x432 with 1 Axes>"
            ],
            "image/png": "[encoded data removed]"
          },
          "metadata": {}
        }
      ],
      "source": [
        "show_batch(train_dl)"
      ]
    },
    {
      "cell_type": "code",
      "execution_count": 22,
      "id": "ed0f9c20",
      "metadata": {
        "id": "ed0f9c20"
      },
      "outputs": [],
      "source": [
        "import torch\n",
        "\n",
        "def get_default_device():\n",
        "    \"\"\"Pick GPU if available, else CPU\"\"\"\n",
        "    if torch.cuda.is_available():\n",
        "        return torch.device('cuda')\n",
        "    else:\n",
        "        return torch.device('cpu')\n",
        "    \n",
        "def to_device(data, device):\n",
        "    \"\"\"Move tensor(s) to chosen device\"\"\"\n",
        "    if isinstance(data, (list,tuple)):\n",
        "        return [to_device(x, device) for x in data]\n",
        "    return data.to(device, non_blocking=True)\n",
        "\n",
        "class DeviceDataLoader():\n",
        "    \"\"\"Wrap a dataloader to move data to a device\"\"\"\n",
        "    def __init__(self, dl, device):\n",
        "        self.dl = dl\n",
        "        self.device = device\n",
        "        \n",
        "    def __iter__(self):\n",
        "        \"\"\"Yield a batch of data after moving it to device\"\"\"\n",
        "        for b in self.dl: \n",
        "            yield to_device(b, self.device)\n",
        "\n",
        "    def __len__(self):\n",
        "        \"\"\"Number of batches\"\"\"\n",
        "        return len(self.dl)"
      ]
    },
    {
      "cell_type": "code",
      "execution_count": 23,
      "id": "e1a908b2",
      "metadata": {
        "id": "e1a908b2",
        "colab": {
          "base_uri": "https://localhost:8080/"
        },
        "outputId": "f96e8009-cb30-4bd6-fb2c-e9a6e02ff190"
      },
      "outputs": [
        {
          "output_type": "execute_result",
          "data": {
            "text/plain": [
              "True"
            ]
          },
          "metadata": {},
          "execution_count": 23
        }
      ],
      "source": [
        "torch.cuda.is_available()"
      ]
    },
    {
      "cell_type": "code",
      "execution_count": 24,
      "id": "932daeb8",
      "metadata": {
        "id": "932daeb8",
        "colab": {
          "base_uri": "https://localhost:8080/"
        },
        "outputId": "81bfb716-b9bd-471e-bb7a-3a1a5145b832"
      },
      "outputs": [
        {
          "output_type": "execute_result",
          "data": {
            "text/plain": [
              "device(type='cuda')"
            ]
          },
          "metadata": {},
          "execution_count": 24
        }
      ],
      "source": [
        "device = get_default_device()\n",
        "device"
      ]
    },
    {
      "cell_type": "code",
      "execution_count": 25,
      "id": "0a643594",
      "metadata": {
        "id": "0a643594",
        "colab": {
          "base_uri": "https://localhost:8080/"
        },
        "outputId": "8b1ed81d-2538-4b6f-e8fa-11440527726a"
      },
      "outputs": [
        {
          "output_type": "execute_result",
          "data": {
            "text/plain": [
              "device(type='cpu')"
            ]
          },
          "metadata": {},
          "execution_count": 25
        }
      ],
      "source": [
        "img, label = ds[0]\n",
        "img.device"
      ]
    },
    {
      "cell_type": "code",
      "execution_count": 26,
      "id": "ac5902a3",
      "metadata": {
        "id": "ac5902a3",
        "colab": {
          "base_uri": "https://localhost:8080/"
        },
        "outputId": "29411137-9903-4e75-bb15-cf620ccbb6ac"
      },
      "outputs": [
        {
          "output_type": "execute_result",
          "data": {
            "text/plain": [
              "device(type='cuda', index=0)"
            ]
          },
          "metadata": {},
          "execution_count": 26
        }
      ],
      "source": [
        "img_gpu = to_device(img, device)\n",
        "img_gpu.device"
      ]
    },
    {
      "cell_type": "code",
      "execution_count": 27,
      "id": "73d438c5",
      "metadata": {
        "id": "73d438c5"
      },
      "outputs": [],
      "source": [
        "train_dl = DeviceDataLoader(train_dl, device)\n",
        "val_dl = DeviceDataLoader(val_dl, device)"
      ]
    },
    {
      "cell_type": "code",
      "execution_count": 28,
      "id": "f077879d",
      "metadata": {
        "id": "f077879d"
      },
      "outputs": [],
      "source": [
        "import torch.nn as nn\n",
        "import torch.nn.functional as F\n",
        "\n",
        "class ImageClassificationBase(nn.Module):\n",
        "    def training_step(self, batch):    \n",
        "      # Calculate Loss for a batch of Training data\n",
        "        images, labels = batch \n",
        "        out = self(images)                  # Generate predictions\n",
        "        loss = F.cross_entropy(out, labels) # Calculate loss\n",
        "        return loss\n",
        "    \n",
        "    def validation_step(self, batch):       \n",
        "      # Calculate Loss & Accuracy for a batch of Validation data\n",
        "        images, labels = batch \n",
        "        out = self(images)                    # Generate predictions\n",
        "        loss = F.cross_entropy(out, labels)   # Calculate loss\n",
        "        acc = accuracy(out, labels)           # Calculate accuracy\n",
        "        return {'val_loss': loss.detach(), 'val_acc': acc}\n",
        "        \n",
        "    def validation_epoch_end(self, outputs):\n",
        "        batch_losses = [x['val_loss'] for x in outputs]\n",
        "        epoch_loss = torch.stack(batch_losses).mean()   # Combine losses\n",
        "        batch_accs = [x['val_acc'] for x in outputs]\n",
        "        epoch_acc = torch.stack(batch_accs).mean()      # Combine accuracies\n",
        "        return {'val_loss': epoch_loss.item(), 'val_acc': epoch_acc.item()}\n",
        "    \n",
        "    def epoch_end(self, epoch, result):\n",
        "        print(\"Epoch [{}], train_loss: {:.4f}, val_loss: {:.4f}, val_acc: {:.4f}\".format(\n",
        "            epoch, result['train_loss'], result['val_loss'], result['val_acc']))\n",
        "        \n",
        "def accuracy(outputs, labels):\n",
        "    _, preds = torch.max(outputs, dim=1)\n",
        "    return torch.tensor(torch.sum(preds == labels).item() / len(preds))"
      ]
    },
    {
      "cell_type": "code",
      "execution_count": 29,
      "id": "4cbe7271",
      "metadata": {
        "id": "4cbe7271"
      },
      "outputs": [],
      "source": [
        "@torch.no_grad()\n",
        "def evaluate(model, val_loader):\n",
        "  # Evaluates the model's Performance on the Validation dataset\n",
        "    model.eval()\n",
        "    outputs = [model.validation_step(batch) for batch in val_loader]\n",
        "    return model.validation_epoch_end(outputs)\n",
        "\n",
        "def fit(epochs, lr, model, train_loader, val_loader, opt_func=torch.optim.SGD):\n",
        "    history = []\n",
        "    optimizer = opt_func(model.parameters(), lr)\n",
        "    for epoch in range(epochs):\n",
        "        # Training Phase \n",
        "        model.train()\n",
        "        train_losses = []\n",
        "        for batch in train_loader:\n",
        "            loss = model.training_step(batch)\n",
        "            train_losses.append(loss)\n",
        "            loss.backward()\n",
        "            optimizer.step()\n",
        "            optimizer.zero_grad()\n",
        "        # Validation phase\n",
        "        result = evaluate(model, val_loader)\n",
        "        result['train_loss'] = torch.stack(train_losses).mean().item()\n",
        "        model.epoch_end(epoch, result)\n",
        "        history.append(result)\n",
        "    return history"
      ]
    },
    {
      "cell_type": "code",
      "execution_count": 30,
      "id": "04e596d8",
      "metadata": {
        "id": "04e596d8"
      },
      "outputs": [],
      "source": [
        "def conv_block(in_channels, out_channels, pool=False):\n",
        "    layers = [nn.Conv2d(in_channels, out_channels, kernel_size=3, padding=1), \n",
        "              nn.BatchNorm2d(out_channels), \n",
        "              nn.ReLU(inplace=True)]\n",
        "    if pool: layers.append(nn.MaxPool2d(2))\n",
        "    return nn.Sequential(*layers)\n",
        "\n",
        "class ResNet9(ImageClassificationBase):\n",
        "    def __init__(self, in_channels, num_classes):\n",
        "        super().__init__()\n",
        "        # Input : 128 x 3 x 64 x 64\n",
        "        \n",
        "        self.conv1 = conv_block(in_channels, 64) # 128 x 64 x 64 x 64\n",
        "        self.conv2 = conv_block(64, 128, pool=True) # 128 x 128 x 32 x 32\n",
        "        self.res1 = nn.Sequential(conv_block(128, 128), # 128 x 128 x 32 x 32\n",
        "                                  conv_block(128, 128)) # 128 x 128 x 32 x 32\n",
        "        \n",
        "        self.conv3 = conv_block(128, 256, pool=True) # 128 x 256 x 16 x 16\n",
        "        self.conv4 = conv_block(256, 512, pool=True) # 128 x 512 x 8 x 8\n",
        "        self.res2 = nn.Sequential(conv_block(512, 512), # 128 x 512 x 8 x 8\n",
        "                                  conv_block(512, 512)) # 128 x 512 x 8 x 8\n",
        "        \n",
        "        self.classifier = nn.Sequential(nn.AdaptiveMaxPool2d(1), # 128 x 512 x 1 x 1\n",
        "                                        nn.Flatten(), # 128 x 512\n",
        "                                        nn.Dropout(0.2),\n",
        "                                        nn.Linear(512, num_classes))\n",
        "        \n",
        "    def forward(self, xb):\n",
        "        out = self.conv1(xb)\n",
        "        out = self.conv2(out)\n",
        "        out = self.res1(out) + out\n",
        "        out = self.conv3(out)\n",
        "        out = self.conv4(out)\n",
        "        out = self.res2(out) + out\n",
        "        out = self.classifier(out)\n",
        "        return out"
      ]
    },
    {
      "cell_type": "code",
      "execution_count": 31,
      "id": "16969f98",
      "metadata": {
        "id": "16969f98",
        "colab": {
          "base_uri": "https://localhost:8080/"
        },
        "outputId": "e3b40fee-256a-4edd-da45-801b105095c9"
      },
      "outputs": [
        {
          "output_type": "execute_result",
          "data": {
            "text/plain": [
              "ResNet9(\n",
              "  (conv1): Sequential(\n",
              "    (0): Conv2d(3, 64, kernel_size=(3, 3), stride=(1, 1), padding=(1, 1))\n",
              "    (1): BatchNorm2d(64, eps=1e-05, momentum=0.1, affine=True, track_running_stats=True)\n",
              "    (2): ReLU(inplace=True)\n",
              "  )\n",
              "  (conv2): Sequential(\n",
              "    (0): Conv2d(64, 128, kernel_size=(3, 3), stride=(1, 1), padding=(1, 1))\n",
              "    (1): BatchNorm2d(128, eps=1e-05, momentum=0.1, affine=True, track_running_stats=True)\n",
              "    (2): ReLU(inplace=True)\n",
              "    (3): MaxPool2d(kernel_size=2, stride=2, padding=0, dilation=1, ceil_mode=False)\n",
              "  )\n",
              "  (res1): Sequential(\n",
              "    (0): Sequential(\n",
              "      (0): Conv2d(128, 128, kernel_size=(3, 3), stride=(1, 1), padding=(1, 1))\n",
              "      (1): BatchNorm2d(128, eps=1e-05, momentum=0.1, affine=True, track_running_stats=True)\n",
              "      (2): ReLU(inplace=True)\n",
              "    )\n",
              "    (1): Sequential(\n",
              "      (0): Conv2d(128, 128, kernel_size=(3, 3), stride=(1, 1), padding=(1, 1))\n",
              "      (1): BatchNorm2d(128, eps=1e-05, momentum=0.1, affine=True, track_running_stats=True)\n",
              "      (2): ReLU(inplace=True)\n",
              "    )\n",
              "  )\n",
              "  (conv3): Sequential(\n",
              "    (0): Conv2d(128, 256, kernel_size=(3, 3), stride=(1, 1), padding=(1, 1))\n",
              "    (1): BatchNorm2d(256, eps=1e-05, momentum=0.1, affine=True, track_running_stats=True)\n",
              "    (2): ReLU(inplace=True)\n",
              "    (3): MaxPool2d(kernel_size=2, stride=2, padding=0, dilation=1, ceil_mode=False)\n",
              "  )\n",
              "  (conv4): Sequential(\n",
              "    (0): Conv2d(256, 512, kernel_size=(3, 3), stride=(1, 1), padding=(1, 1))\n",
              "    (1): BatchNorm2d(512, eps=1e-05, momentum=0.1, affine=True, track_running_stats=True)\n",
              "    (2): ReLU(inplace=True)\n",
              "    (3): MaxPool2d(kernel_size=2, stride=2, padding=0, dilation=1, ceil_mode=False)\n",
              "  )\n",
              "  (res2): Sequential(\n",
              "    (0): Sequential(\n",
              "      (0): Conv2d(512, 512, kernel_size=(3, 3), stride=(1, 1), padding=(1, 1))\n",
              "      (1): BatchNorm2d(512, eps=1e-05, momentum=0.1, affine=True, track_running_stats=True)\n",
              "      (2): ReLU(inplace=True)\n",
              "    )\n",
              "    (1): Sequential(\n",
              "      (0): Conv2d(512, 512, kernel_size=(3, 3), stride=(1, 1), padding=(1, 1))\n",
              "      (1): BatchNorm2d(512, eps=1e-05, momentum=0.1, affine=True, track_running_stats=True)\n",
              "      (2): ReLU(inplace=True)\n",
              "    )\n",
              "  )\n",
              "  (classifier): Sequential(\n",
              "    (0): AdaptiveMaxPool2d(output_size=1)\n",
              "    (1): Flatten(start_dim=1, end_dim=-1)\n",
              "    (2): Dropout(p=0.2, inplace=False)\n",
              "    (3): Linear(in_features=512, out_features=6, bias=True)\n",
              "  )\n",
              ")"
            ]
          },
          "metadata": {},
          "execution_count": 31
        }
      ],
      "source": [
        "model = to_device(ResNet9(3,len(ds.classes)), device)\n",
        "model"
      ]
    },
    {
      "cell_type": "code",
      "execution_count": 32,
      "id": "d6b38f9e",
      "metadata": {
        "id": "d6b38f9e",
        "colab": {
          "base_uri": "https://localhost:8080/"
        },
        "outputId": "de376251-c684-44eb-db36-6bac78a7cebf"
      },
      "outputs": [
        {
          "output_type": "execute_result",
          "data": {
            "text/plain": [
              "device(type='cuda', index=0)"
            ]
          },
          "metadata": {},
          "execution_count": 32
        }
      ],
      "source": [
        "model.conv1[0].weight.device"
      ]
    },
    {
      "cell_type": "code",
      "execution_count": 33,
      "id": "fa6c7d13",
      "metadata": {
        "id": "fa6c7d13",
        "colab": {
          "base_uri": "https://localhost:8080/"
        },
        "outputId": "4385922f-b96d-459e-c908-e407571d296e"
      },
      "outputs": [
        {
          "output_type": "stream",
          "name": "stdout",
          "text": [
            "images.shape torch.Size([32, 3, 64, 64])\n",
            "images.device cuda:0\n",
            "preds.shape torch.Size([32, 6])\n"
          ]
        }
      ],
      "source": [
        "for batch in train_dl:\n",
        "  images, labels = batch\n",
        "  print('images.shape', images.shape)\n",
        "  print('images.device', images.device)\n",
        "  preds = model(images)\n",
        "  print('preds.shape', preds.shape)\n",
        "  break"
      ]
    },
    {
      "cell_type": "code",
      "execution_count": 34,
      "id": "d9faf562",
      "metadata": {
        "id": "d9faf562",
        "colab": {
          "base_uri": "https://localhost:8080/"
        },
        "outputId": "7e9a8316-b61a-4557-a9fb-edf0ea4e61fc"
      },
      "outputs": [
        {
          "output_type": "execute_result",
          "data": {
            "text/plain": [
              "[{'val_loss': 1.7899211645126343, 'val_acc': 0.17298798263072968}]"
            ]
          },
          "metadata": {},
          "execution_count": 34
        }
      ],
      "source": [
        "history = [evaluate(model, val_dl)]\n",
        "history"
      ]
    },
    {
      "cell_type": "code",
      "execution_count": 35,
      "id": "f2c9f61b",
      "metadata": {
        "id": "f2c9f61b",
        "colab": {
          "base_uri": "https://localhost:8080/"
        },
        "outputId": "aede4076-7e9a-469a-e31b-fb79b7a26075"
      },
      "outputs": [
        {
          "output_type": "stream",
          "name": "stdout",
          "text": [
            "Epoch [0], train_loss: 0.2734, val_loss: 0.1399, val_acc: 0.9490\n",
            "Epoch [1], train_loss: 0.1503, val_loss: 0.1648, val_acc: 0.9412\n",
            "Epoch [2], train_loss: 0.1176, val_loss: 0.1053, val_acc: 0.9638\n"
          ]
        }
      ],
      "source": [
        "history += fit(3, 0.001, model, train_dl, val_dl, torch.optim.Adam)"
      ]
    },
    {
      "cell_type": "code",
      "execution_count": 36,
      "id": "c06145d4",
      "metadata": {
        "id": "c06145d4",
        "colab": {
          "base_uri": "https://localhost:8080/"
        },
        "outputId": "2544e74d-baef-4431-f6df-582cfd52469f"
      },
      "outputs": [
        {
          "output_type": "stream",
          "name": "stdout",
          "text": [
            "Epoch [0], train_loss: 0.0864, val_loss: 0.0572, val_acc: 0.9808\n",
            "Epoch [1], train_loss: 0.0760, val_loss: 0.0549, val_acc: 0.9817\n",
            "Epoch [2], train_loss: 0.0743, val_loss: 0.0546, val_acc: 0.9817\n"
          ]
        }
      ],
      "source": [
        "history += fit(3, 0.0001, model, train_dl, val_dl) # Using torch.optim.SGD which is the default"
      ]
    },
    {
      "cell_type": "code",
      "execution_count": 37,
      "id": "82e409d7",
      "metadata": {
        "id": "82e409d7"
      },
      "outputs": [],
      "source": [
        "def plot_accuracies(history):\n",
        "    accuracies = [x['val_acc'] for x in history]\n",
        "    plt.plot(accuracies, '-x')\n",
        "    plt.xlabel('epoch')\n",
        "    plt.ylabel('accuracy')\n",
        "    plt.title('Accuracy vs. No. of epochs');"
      ]
    },
    {
      "cell_type": "code",
      "execution_count": 38,
      "id": "176fdba8",
      "metadata": {
        "id": "176fdba8",
        "colab": {
          "base_uri": "https://localhost:8080/",
          "height": 295
        },
        "outputId": "4aea89f5-180d-4170-bdd7-f9915ae526b2"
      },
      "outputs": [
        {
          "output_type": "display_data",
          "data": {
            "text/plain": [
              "<Figure size 432x288 with 1 Axes>"
            ],
            "image/png": "[encoded data removed]"
          },
          "metadata": {
            "needs_background": "light"
          }
        }
      ],
      "source": [
        "plot_accuracies(history)"
      ]
    },
    {
      "cell_type": "code",
      "execution_count": 39,
      "id": "0b00580a",
      "metadata": {
        "id": "0b00580a"
      },
      "outputs": [],
      "source": [
        "def plot_losses(history):\n",
        "    train_losses = [x.get('train_loss') for x in history]\n",
        "    val_losses = [x['val_loss'] for x in history]\n",
        "    plt.plot(train_losses, '-bx')\n",
        "    plt.plot(val_losses, '-rx')\n",
        "    plt.xlabel('epoch')\n",
        "    plt.ylabel('loss')\n",
        "    plt.legend(['Training', 'Validation'])\n",
        "    plt.title('Loss vs. No. of epochs');"
      ]
    },
    {
      "cell_type": "code",
      "execution_count": 40,
      "id": "0a250632",
      "metadata": {
        "id": "0a250632",
        "colab": {
          "base_uri": "https://localhost:8080/",
          "height": 295
        },
        "outputId": "c339b98b-1c48-4b5e-c1bc-e59d74f5783a"
      },
      "outputs": [
        {
          "output_type": "display_data",
          "data": {
            "text/plain": [
              "<Figure size 432x288 with 1 Axes>"
            ],
            "image/png": "[encoded data removed]"
          },
          "metadata": {
            "needs_background": "light"
          }
        }
      ],
      "source": [
        "plot_losses(history)"
      ]
    },
    {
      "cell_type": "code",
      "execution_count": 41,
      "id": "9010ae0e",
      "metadata": {
        "id": "9010ae0e"
      },
      "outputs": [],
      "source": [
        "def predict_image(img, model, classes):\n",
        "    # Convert to a batch of 1\n",
        "    xb = to_device(img.unsqueeze(0), device)\n",
        "    # Get predictions from model\n",
        "    yb = model(xb)\n",
        "    # Pick index with highest probability\n",
        "    _, preds  = torch.max(yb, dim=1)\n",
        "    # Retrieve the class label\n",
        "    return classes[preds[0].item()]"
      ]
    },
    {
      "cell_type": "code",
      "source": [
        "def predictions(num):\n",
        "  img, label = val_ds[num]\n",
        "  plt.imshow(img.permute(1,2,0))\n",
        "  pred = predict_image(img, model, ds.classes)\n",
        "  print('Target :', ds.classes[label])\n",
        "  print('Prediction :', pred)"
      ],
      "metadata": {
        "id": "t_NiFPrYJmZw"
      },
      "id": "t_NiFPrYJmZw",
      "execution_count": 42,
      "outputs": []
    },
    {
      "cell_type": "code",
      "source": [
        "predictions(0)"
      ],
      "metadata": {
        "colab": {
          "base_uri": "https://localhost:8080/",
          "height": 303
        },
        "id": "4XqrB_JLJnvC",
        "outputId": "bc97b161-670f-4c19-b053-64b92afb9385"
      },
      "id": "4XqrB_JLJnvC",
      "execution_count": 43,
      "outputs": [
        {
          "output_type": "stream",
          "name": "stdout",
          "text": [
            "Target : gneiss\n",
            "Prediction : gneiss\n"
          ]
        },
        {
          "output_type": "display_data",
          "data": {
            "text/plain": [
              "<Figure size 432x288 with 1 Axes>"
            ],
            "image/png": "[encoded data removed]"
          },
          "metadata": {
            "needs_background": "light"
          }
        }
      ]
    },
    {
      "cell_type": "code",
      "source": [
        "predictions(1)"
      ],
      "metadata": {
        "colab": {
          "base_uri": "https://localhost:8080/",
          "height": 303
        },
        "id": "L3cBfCYaJpAV",
        "outputId": "03be5dfa-4e08-48f1-a6b4-b44fd51d76e2"
      },
      "id": "L3cBfCYaJpAV",
      "execution_count": 49,
      "outputs": [
        {
          "output_type": "stream",
          "name": "stdout",
          "text": [
            "Target : quartzite\n",
            "Prediction : quartzite\n"
          ]
        },
        {
          "output_type": "display_data",
          "data": {
            "text/plain": [
              "<Figure size 432x288 with 1 Axes>"
            ],
            "image/png": "[encoded data removed]"
          },
          "metadata": {
            "needs_background": "light"
          }
        }
      ]
    },
    {
      "cell_type": "code",
      "source": [
        "predictions(2)"
      ],
      "metadata": {
        "id": "jcUtvVcWKV7K",
        "colab": {
          "base_uri": "https://localhost:8080/",
          "height": 303
        },
        "outputId": "dddc5017-ddba-4249-9c09-5de417c76cd6"
      },
      "id": "jcUtvVcWKV7K",
      "execution_count": 50,
      "outputs": [
        {
          "output_type": "stream",
          "name": "stdout",
          "text": [
            "Target : andesite\n",
            "Prediction : andesite\n"
          ]
        },
        {
          "output_type": "display_data",
          "data": {
            "text/plain": [
              "<Figure size 432x288 with 1 Axes>"
            ],
            "image/png": "[encoded data removed]"
          },
          "metadata": {
            "needs_background": "light"
          }
        }
      ]
    },
    {
      "cell_type": "code",
      "source": [
        "predictions(3)"
      ],
      "metadata": {
        "colab": {
          "base_uri": "https://localhost:8080/",
          "height": 303
        },
        "id": "CLb8ephldIvG",
        "outputId": "d5e4af90-046c-4886-9718-00c0c1b0f67e"
      },
      "id": "CLb8ephldIvG",
      "execution_count": 51,
      "outputs": [
        {
          "output_type": "stream",
          "name": "stdout",
          "text": [
            "Target : rhyolite\n",
            "Prediction : rhyolite\n"
          ]
        },
        {
          "output_type": "display_data",
          "data": {
            "text/plain": [
              "<Figure size 432x288 with 1 Axes>"
            ],
            "image/png": "[encoded data removed]"
          },
          "metadata": {
            "needs_background": "light"
          }
        }
      ]
    },
    {
      "cell_type": "code",
      "source": [
        "predictions(4)"
      ],
      "metadata": {
        "colab": {
          "base_uri": "https://localhost:8080/",
          "height": 303
        },
        "id": "iYPZSM0s0gZu",
        "outputId": "fa99e4d6-51e2-438e-ce7f-cdb6aa68ab84"
      },
      "id": "iYPZSM0s0gZu",
      "execution_count": 52,
      "outputs": [
        {
          "output_type": "stream",
          "name": "stdout",
          "text": [
            "Target : marble\n",
            "Prediction : marble\n"
          ]
        },
        {
          "output_type": "display_data",
          "data": {
            "text/plain": [
              "<Figure size 432x288 with 1 Axes>"
            ],
            "image/png": "[encoded data removed]"
          },
          "metadata": {
            "needs_background": "light"
          }
        }
      ]
    },
    {
      "cell_type": "code",
      "source": [
        "predictions(5)"
      ],
      "metadata": {
        "colab": {
          "base_uri": "https://localhost:8080/",
          "height": 303
        },
        "id": "D6aNzBLg0j1X",
        "outputId": "35b53763-29d6-4748-8763-6a4c6c7b7b53"
      },
      "id": "D6aNzBLg0j1X",
      "execution_count": 53,
      "outputs": [
        {
          "output_type": "stream",
          "name": "stdout",
          "text": [
            "Target : schist\n",
            "Prediction : schist\n"
          ]
        },
        {
          "output_type": "display_data",
          "data": {
            "text/plain": [
              "<Figure size 432x288 with 1 Axes>"
            ],
            "image/png": "[encoded data removed]"
          },
          "metadata": {
            "needs_background": "light"
          }
        }
      ]
    },
    {
      "cell_type": "code",
      "source": [
        "for i in range(0,200):\n",
        "  predictions(i)"
      ],
      "metadata": {
        "colab": {
          "base_uri": "https://localhost:8080/",
          "height": 1000
        },
        "id": "DDG4_S4jKPZy",
        "outputId": "a4a65584-e196-444e-c4a1-4240fc57ebe1"
      },
      "id": "DDG4_S4jKPZy",
      "execution_count": 48,
      "outputs": [
        {
          "output_type": "stream",
          "name": "stdout",
          "text": [
            "Target : gneiss\n",
            "Prediction : gneiss\n",
            "Target : quartzite\n",
            "Prediction : quartzite\n",
            "Target : andesite\n",
            "Prediction : andesite\n",
            "Target : rhyolite\n",
            "Prediction : rhyolite\n",
            "Target : marble\n",
            "Prediction : marble\n",
            "Target : schist\n",
            "Prediction : schist\n",
            "Target : marble\n",
            "Prediction : marble\n",
            "Target : andesite\n",
            "Prediction : andesite\n",
            "Target : andesite\n",
            "Prediction : andesite\n",
            "Target : marble\n",
            "Prediction : marble\n",
            "Target : marble\n",
            "Prediction : marble\n",
            "Target : marble\n",
            "Prediction : marble\n",
            "Target : quartzite\n",
            "Prediction : quartzite\n",
            "Target : andesite\n",
            "Prediction : andesite\n",
            "Target : marble\n",
            "Prediction : marble\n",
            "Target : andesite\n",
            "Prediction : andesite\n",
            "Target : andesite\n",
            "Prediction : andesite\n",
            "Target : andesite\n",
            "Prediction : andesite\n",
            "Target : gneiss\n",
            "Prediction : gneiss\n",
            "Target : quartzite\n",
            "Prediction : quartzite\n",
            "Target : quartzite\n",
            "Prediction : quartzite\n",
            "Target : quartzite\n",
            "Prediction : quartzite\n",
            "Target : marble\n",
            "Prediction : marble\n",
            "Target : quartzite\n",
            "Prediction : quartzite\n",
            "Target : marble\n",
            "Prediction : marble\n",
            "Target : marble\n",
            "Prediction : marble\n",
            "Target : rhyolite\n",
            "Prediction : rhyolite\n",
            "Target : andesite\n",
            "Prediction : andesite\n",
            "Target : andesite\n",
            "Prediction : andesite\n",
            "Target : quartzite\n",
            "Prediction : quartzite\n",
            "Target : marble\n",
            "Prediction : marble\n",
            "Target : schist\n",
            "Prediction : schist\n",
            "Target : schist\n",
            "Prediction : schist\n",
            "Target : andesite\n",
            "Prediction : andesite\n",
            "Target : gneiss\n",
            "Prediction : gneiss\n",
            "Target : gneiss\n",
            "Prediction : gneiss\n",
            "Target : schist\n",
            "Prediction : schist\n",
            "Target : marble\n",
            "Prediction : marble\n",
            "Target : quartzite\n",
            "Prediction : quartzite\n",
            "Target : marble\n",
            "Prediction : marble\n",
            "Target : gneiss\n",
            "Prediction : gneiss\n",
            "Target : quartzite\n",
            "Prediction : quartzite\n",
            "Target : andesite\n",
            "Prediction : andesite\n",
            "Target : schist\n",
            "Prediction : schist\n",
            "Target : schist\n",
            "Prediction : schist\n",
            "Target : gneiss\n",
            "Prediction : gneiss\n",
            "Target : schist\n",
            "Prediction : schist\n",
            "Target : gneiss\n",
            "Prediction : gneiss\n",
            "Target : quartzite\n",
            "Prediction : quartzite\n",
            "Target : andesite\n",
            "Prediction : andesite\n",
            "Target : marble\n",
            "Prediction : marble\n",
            "Target : rhyolite\n",
            "Prediction : rhyolite\n",
            "Target : marble\n",
            "Prediction : marble\n",
            "Target : rhyolite\n",
            "Prediction : rhyolite\n",
            "Target : schist\n",
            "Prediction : schist\n",
            "Target : rhyolite\n",
            "Prediction : rhyolite\n",
            "Target : andesite\n",
            "Prediction : andesite\n",
            "Target : marble\n",
            "Prediction : marble\n",
            "Target : rhyolite\n",
            "Prediction : rhyolite\n",
            "Target : rhyolite\n",
            "Prediction : rhyolite\n",
            "Target : quartzite\n",
            "Prediction : quartzite\n",
            "Target : rhyolite\n",
            "Prediction : rhyolite\n",
            "Target : quartzite\n",
            "Prediction : quartzite\n",
            "Target : rhyolite\n",
            "Prediction : rhyolite\n",
            "Target : marble\n",
            "Prediction : marble\n",
            "Target : quartzite\n",
            "Prediction : quartzite\n",
            "Target : marble\n",
            "Prediction : marble\n",
            "Target : andesite\n",
            "Prediction : andesite\n",
            "Target : andesite\n",
            "Prediction : andesite\n",
            "Target : schist\n",
            "Prediction : schist\n",
            "Target : gneiss\n",
            "Prediction : gneiss\n",
            "Target : schist\n",
            "Prediction : schist\n",
            "Target : rhyolite\n",
            "Prediction : rhyolite\n",
            "Target : marble\n",
            "Prediction : marble\n",
            "Target : schist\n",
            "Prediction : schist\n",
            "Target : quartzite\n",
            "Prediction : quartzite\n",
            "Target : gneiss\n",
            "Prediction : gneiss\n",
            "Target : andesite\n",
            "Prediction : andesite\n",
            "Target : quartzite\n",
            "Prediction : quartzite\n",
            "Target : schist\n",
            "Prediction : schist\n",
            "Target : quartzite\n",
            "Prediction : quartzite\n",
            "Target : schist\n",
            "Prediction : schist\n",
            "Target : rhyolite\n",
            "Prediction : rhyolite\n",
            "Target : marble\n",
            "Prediction : marble\n",
            "Target : gneiss\n",
            "Prediction : gneiss\n",
            "Target : andesite\n",
            "Prediction : andesite\n",
            "Target : andesite\n",
            "Prediction : andesite\n",
            "Target : gneiss\n",
            "Prediction : gneiss\n",
            "Target : rhyolite\n",
            "Prediction : rhyolite\n",
            "Target : marble\n",
            "Prediction : marble\n",
            "Target : schist\n",
            "Prediction : schist\n",
            "Target : marble\n",
            "Prediction : marble\n",
            "Target : gneiss\n",
            "Prediction : gneiss\n",
            "Target : gneiss\n",
            "Prediction : gneiss\n",
            "Target : rhyolite\n",
            "Prediction : rhyolite\n",
            "Target : andesite\n",
            "Prediction : andesite\n",
            "Target : gneiss\n",
            "Prediction : gneiss\n",
            "Target : gneiss\n",
            "Prediction : gneiss\n",
            "Target : schist\n",
            "Prediction : schist\n",
            "Target : gneiss\n",
            "Prediction : gneiss\n",
            "Target : gneiss\n",
            "Prediction : gneiss\n",
            "Target : gneiss\n",
            "Prediction : gneiss\n",
            "Target : marble\n",
            "Prediction : marble\n",
            "Target : gneiss\n",
            "Prediction : gneiss\n",
            "Target : marble\n",
            "Prediction : marble\n",
            "Target : quartzite\n",
            "Prediction : quartzite\n",
            "Target : gneiss\n",
            "Prediction : gneiss\n",
            "Target : quartzite\n",
            "Prediction : quartzite\n",
            "Target : gneiss\n",
            "Prediction : gneiss\n",
            "Target : gneiss\n",
            "Prediction : gneiss\n",
            "Target : andesite\n",
            "Prediction : andesite\n",
            "Target : quartzite\n",
            "Prediction : quartzite\n",
            "Target : gneiss\n",
            "Prediction : gneiss\n",
            "Target : quartzite\n",
            "Prediction : quartzite\n",
            "Target : schist\n",
            "Prediction : schist\n",
            "Target : gneiss\n",
            "Prediction : gneiss\n",
            "Target : quartzite\n",
            "Prediction : quartzite\n",
            "Target : quartzite\n",
            "Prediction : quartzite\n",
            "Target : quartzite\n",
            "Prediction : quartzite\n",
            "Target : quartzite\n",
            "Prediction : quartzite\n",
            "Target : gneiss\n",
            "Prediction : gneiss\n",
            "Target : gneiss\n",
            "Prediction : gneiss\n",
            "Target : rhyolite\n",
            "Prediction : rhyolite\n",
            "Target : gneiss\n",
            "Prediction : gneiss\n",
            "Target : quartzite\n",
            "Prediction : quartzite\n",
            "Target : rhyolite\n",
            "Prediction : rhyolite\n",
            "Target : marble\n",
            "Prediction : marble\n",
            "Target : quartzite\n",
            "Prediction : quartzite\n",
            "Target : andesite\n",
            "Prediction : andesite\n",
            "Target : schist\n",
            "Prediction : schist\n",
            "Target : marble\n",
            "Prediction : marble\n",
            "Target : andesite\n",
            "Prediction : andesite\n",
            "Target : schist\n",
            "Prediction : schist\n",
            "Target : gneiss\n",
            "Prediction : gneiss\n",
            "Target : gneiss\n",
            "Prediction : gneiss\n",
            "Target : marble\n",
            "Prediction : marble\n",
            "Target : schist\n",
            "Prediction : schist\n",
            "Target : rhyolite\n",
            "Prediction : andesite\n",
            "Target : marble\n",
            "Prediction : marble\n",
            "Target : marble\n",
            "Prediction : marble\n",
            "Target : andesite\n",
            "Prediction : andesite\n",
            "Target : gneiss\n",
            "Prediction : gneiss\n",
            "Target : schist\n",
            "Prediction : schist\n",
            "Target : schist\n",
            "Prediction : schist\n",
            "Target : quartzite\n",
            "Prediction : quartzite\n",
            "Target : gneiss\n",
            "Prediction : gneiss\n",
            "Target : andesite\n",
            "Prediction : andesite\n",
            "Target : andesite\n",
            "Prediction : andesite\n",
            "Target : andesite\n",
            "Prediction : andesite\n",
            "Target : rhyolite\n",
            "Prediction : rhyolite\n",
            "Target : rhyolite\n",
            "Prediction : rhyolite\n",
            "Target : quartzite\n",
            "Prediction : quartzite\n",
            "Target : schist\n",
            "Prediction : schist\n",
            "Target : gneiss\n",
            "Prediction : gneiss\n",
            "Target : quartzite\n",
            "Prediction : quartzite\n",
            "Target : gneiss\n",
            "Prediction : gneiss\n",
            "Target : andesite\n",
            "Prediction : andesite\n",
            "Target : rhyolite\n",
            "Prediction : rhyolite\n",
            "Target : gneiss\n",
            "Prediction : gneiss\n",
            "Target : andesite\n",
            "Prediction : andesite\n",
            "Target : quartzite\n",
            "Prediction : quartzite\n",
            "Target : gneiss\n",
            "Prediction : gneiss\n",
            "Target : marble\n",
            "Prediction : marble\n",
            "Target : marble\n",
            "Prediction : marble\n",
            "Target : marble\n",
            "Prediction : marble\n",
            "Target : gneiss\n",
            "Prediction : gneiss\n",
            "Target : andesite\n",
            "Prediction : andesite\n",
            "Target : gneiss\n",
            "Prediction : gneiss\n",
            "Target : rhyolite\n",
            "Prediction : rhyolite\n",
            "Target : marble\n",
            "Prediction : marble\n",
            "Target : andesite\n",
            "Prediction : andesite\n",
            "Target : marble\n",
            "Prediction : marble\n",
            "Target : schist\n",
            "Prediction : schist\n",
            "Target : rhyolite\n",
            "Prediction : rhyolite\n",
            "Target : quartzite\n",
            "Prediction : quartzite\n",
            "Target : marble\n",
            "Prediction : marble\n",
            "Target : quartzite\n",
            "Prediction : quartzite\n",
            "Target : rhyolite\n",
            "Prediction : rhyolite\n",
            "Target : gneiss\n",
            "Prediction : gneiss\n",
            "Target : quartzite\n",
            "Prediction : quartzite\n",
            "Target : marble\n",
            "Prediction : marble\n",
            "Target : rhyolite\n",
            "Prediction : rhyolite\n",
            "Target : andesite\n",
            "Prediction : andesite\n",
            "Target : gneiss\n",
            "Prediction : gneiss\n",
            "Target : marble\n",
            "Prediction : marble\n",
            "Target : gneiss\n",
            "Prediction : gneiss\n",
            "Target : andesite\n",
            "Prediction : rhyolite\n",
            "Target : gneiss\n",
            "Prediction : gneiss\n",
            "Target : marble\n",
            "Prediction : marble\n",
            "Target : schist\n",
            "Prediction : schist\n",
            "Target : quartzite\n",
            "Prediction : quartzite\n",
            "Target : gneiss\n",
            "Prediction : gneiss\n",
            "Target : rhyolite\n",
            "Prediction : rhyolite\n",
            "Target : quartzite\n",
            "Prediction : quartzite\n",
            "Target : quartzite\n",
            "Prediction : quartzite\n",
            "Target : rhyolite\n",
            "Prediction : rhyolite\n",
            "Target : andesite\n",
            "Prediction : andesite\n",
            "Target : marble\n",
            "Prediction : marble\n",
            "Target : marble\n",
            "Prediction : marble\n",
            "Target : andesite\n",
            "Prediction : andesite\n"
          ]
        },
        {
          "output_type": "display_data",
          "data": {
            "text/plain": [
              "<Figure size 432x288 with 1 Axes>"
            ],
            "image/png": "[encoded data removed]"
          },
          "metadata": {
            "needs_background": "light"
          }
        }
      ]
    },
    {
      "cell_type": "code",
      "source": [
        "!pip install jovian\n",
        "import jovian\n",
        "jovian.commit()"
      ],
      "metadata": {
        "colab": {
          "base_uri": "https://localhost:8080/",
          "height": 538
        },
        "id": "bTBxsDHRdkuU",
        "outputId": "18d7c2a9-1dc4-40aa-bb6a-d8486ddea07e"
      },
      "id": "bTBxsDHRdkuU",
      "execution_count": 58,
      "outputs": [
        {
          "output_type": "stream",
          "name": "stdout",
          "text": [
            "Looking in indexes: https://pypi.org/simple, https://us-python.pkg.dev/colab-wheels/public/simple/\n",
            "Collecting jovian\n",
            "  Downloading jovian-0.2.47-py2.py3-none-any.whl (68 kB)\n",
            "\u001b[2K     \u001b[90m━━━━━━━━━━━━━━━━━━━━━━━━━━━━━━━━━━━━━━━━\u001b[0m \u001b[32m68.6/68.6 KB\u001b[0m \u001b[31m6.8 MB/s\u001b[0m eta \u001b[36m0:00:00\u001b[0m\n",
            "\u001b[?25hRequirement already satisfied: requests in /usr/local/lib/python3.9/dist-packages (from jovian) (2.25.1)\n",
            "Collecting uuid\n",
            "  Downloading uuid-1.30.tar.gz (5.8 kB)\n",
            "  Preparing metadata (setup.py) ... \u001b[?25l\u001b[?25hdone\n",
            "Requirement already satisfied: click in /usr/local/lib/python3.9/dist-packages (from jovian) (8.1.3)\n",
            "Requirement already satisfied: pyyaml in /usr/local/lib/python3.9/dist-packages (from jovian) (6.0)\n",
            "Requirement already satisfied: certifi>=2017.4.17 in /usr/local/lib/python3.9/dist-packages (from requests->jovian) (2022.12.7)\n",
            "Requirement already satisfied: urllib3<1.27,>=1.21.1 in /usr/local/lib/python3.9/dist-packages (from requests->jovian) (1.26.15)\n",
            "Requirement already satisfied: chardet<5,>=3.0.2 in /usr/local/lib/python3.9/dist-packages (from requests->jovian) (4.0.0)\n",
            "Requirement already satisfied: idna<3,>=2.5 in /usr/local/lib/python3.9/dist-packages (from requests->jovian) (2.10)\n",
            "Building wheels for collected packages: uuid\n",
            "  Building wheel for uuid (setup.py) ... \u001b[?25l\u001b[?25hdone\n",
            "  Created wheel for uuid: filename=uuid-1.30-py3-none-any.whl size=6502 sha256=ff8885848fe01a44c46bb3e1fe184ea3e3cc0cb60f7d9ef3b950b9aaa486a7f1\n",
            "  Stored in directory: /root/.cache/pip/wheels/05/d7/b4/4795d29c6decfffbf64c63e58b6c8b8bbfd4751488617dcd7a\n",
            "Successfully built uuid\n",
            "Installing collected packages: uuid, jovian\n",
            "Successfully installed jovian-0.2.47 uuid-1.30\n"
          ]
        },
        {
          "output_type": "display_data",
          "data": {
            "application/vnd.colab-display-data+json": {
              "pip_warning": {
                "packages": [
                  "uuid"
                ]
              }
            }
          },
          "metadata": {}
        },
        {
          "output_type": "stream",
          "name": "stdout",
          "text": [
            "[jovian] Detected Colab notebook...\u001b[0m\n",
            "[jovian] jovian.commit() is no longer required on Google Colab. If you ran this notebook from Jovian, \n",
            "then just save this file in Colab using Ctrl+S/Cmd+S and it will be updated on Jovian. \n",
            "Also, you can also delete this cell, it's no longer necessary.\u001b[0m\n"
          ]
        }
      ]
    },
    {
      "cell_type": "code",
      "source": [
        "jovian.commit"
      ],
      "metadata": {
        "colab": {
          "base_uri": "https://localhost:8080/"
        },
        "id": "Oxzme9IG0qXt",
        "outputId": "ceabb5a7-3a55-45bb-a8eb-f99f341bce01"
      },
      "id": "Oxzme9IG0qXt",
      "execution_count": 59,
      "outputs": [
        {
          "output_type": "execute_result",
          "data": {
            "text/plain": [
              "<function jovian.utils.commit.commit(message=None, files=[], outputs=[], environment=None, privacy='auto', filename=None, project=None, new_project=None, git_commit=False, git_message='auto', require_write_access=False, **kwargs)>"
            ]
          },
          "metadata": {},
          "execution_count": 59
        }
      ]
    },
    {
      "cell_type": "code",
      "source": [],
      "metadata": {
        "id": "gNK9et3r1NWr"
      },
      "id": "gNK9et3r1NWr",
      "execution_count": null,
      "outputs": []
    }
  ],
  "metadata": {
    "kernelspec": {
      "display_name": "Python 3 (ipykernel)",
      "language": "python",
      "name": "python3"
    },
    "language_info": {
      "codemirror_mode": {
        "name": "ipython",
        "version": 3
      },
      "file_extension": ".py",
      "mimetype": "text/x-python",
      "name": "python",
      "nbconvert_exporter": "python",
      "pygments_lexer": "ipython3",
      "version": "3.9.7"
    },
    "colab": {
      "provenance": []
    },
    "accelerator": "GPU",
    "gpuClass": "standard"
  },
  "nbformat": 4,
  "nbformat_minor": 5
}