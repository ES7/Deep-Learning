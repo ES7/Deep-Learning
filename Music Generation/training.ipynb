{
 "cells": [
  {
   "cell_type": "code",
   "execution_count": 7,
   "id": "4622b5eb",
   "metadata": {},
   "outputs": [],
   "source": [
    "import os\n",
    "import tensorflow \n",
    "import numpy as np \n",
    "import pandas as pd \n",
    "from collections import Counter\n",
    "import random\n",
    "import IPython\n",
    "from IPython.display import Image, Audio\n",
    "import music21\n",
    "from music21 import *\n",
    "import matplotlib.pyplot as plt \n",
    "from sklearn.model_selection import train_test_split\n",
    "from tensorflow.keras.models import Sequential\n",
    "from tensorflow.keras.layers import LSTM, Dense, Dropout\n",
    "import tensorflow.keras.backend as K\n",
    "from tensorflow.keras.optimizers import Adamax\n",
    "import seaborn as sns\n",
    "import matplotlib.pyplot as plt\n",
    "import matplotlib.patches as mpatches\n",
    "%matplotlib inline\n",
    "import sys\n",
    "import warnings\n",
    "warnings.filterwarnings(\"ignore\")\n",
    "warnings.simplefilter(\"ignore\")\n",
    "np.random.seed(42)"
   ]
  },
  {
   "cell_type": "code",
   "execution_count": 30,
   "id": "dfb5573a",
   "metadata": {},
   "outputs": [
    {
     "data": {
      "text/plain": [
       "'NVIDIA GeForce RTX 4070 Laptop GPU'"
      ]
     },
     "execution_count": 30,
     "metadata": {},
     "output_type": "execute_result"
    }
   ],
   "source": [
    "gpu_devices = tensorflow.config.list_physical_devices('GPU')\n",
    "details = tensorflow.config.experimental.get_device_details(gpu_devices[0])\n",
    "details.get('device_name', 'Unknown GPU')"
   ]
  },
  {
   "cell_type": "markdown",
   "id": "5b7b0683",
   "metadata": {},
   "source": [
    "First we will make a list of all the songs in the Chopin folder parsed as music21 stream. Then we will be creating a function to extract chords and notes out of the data creating a corpus."
   ]
  },
  {
   "cell_type": "code",
   "execution_count": 31,
   "id": "75a06089",
   "metadata": {},
   "outputs": [],
   "source": [
    "filepath = \"./data/chopin/\"\n",
    "#Getting midi files\n",
    "all_midis= []\n",
    "for i in os.listdir(filepath):\n",
    "    if i.endswith(\".mid\"):\n",
    "        tr = filepath+i\n",
    "        midi = converter.parse(tr)\n",
    "        all_midis.append(midi)"
   ]
  },
  {
   "cell_type": "markdown",
   "id": "81e4a2b4",
   "metadata": {},
   "source": [
    "Next, we get the components out of these streams of MIDI files. The midi files only have the piano included as mentioned in the dataset. So the components of the file would be either `piano chords` or `piano notes`.\n",
    "\n",
    "**Note:** The musical notes are the building blocks of the music. It pertains to a pitch associated with a specific audio vibration. Western music utilizes twelve musical notes.\n",
    "\n",
    "Chord: A group of notes that sound good together is a chord.\n",
    "\n",
    "The music21 stream that was created in the above cell contains both, chords and notes, we will extract them in the form of notes and obtain a series of notes in the musical composition."
   ]
  },
  {
   "cell_type": "code",
   "execution_count": 32,
   "id": "a6792750",
   "metadata": {},
   "outputs": [
    {
     "name": "stdout",
     "output_type": "stream",
     "text": [
      "Total notes in all the Chopin midis in the dataset: 57887\n"
     ]
    }
   ],
   "source": [
    "def extract_notes(file):\n",
    "    notes = []\n",
    "    pick = None\n",
    "    for j in file:\n",
    "        songs = instrument.partitionByInstrument(j)\n",
    "        for part in songs.parts:\n",
    "            pick = part.recurse()\n",
    "            for element in pick:\n",
    "                if isinstance(element, note.Note):\n",
    "                    notes.append(str(element.pitch))\n",
    "                elif isinstance(element, chord.Chord):\n",
    "                    notes.append(\".\".join(str(n) for n in element.normalOrder))\n",
    "\n",
    "    return notes\n",
    "#Getting the list of notes as Corpus\n",
    "Corpus= extract_notes(all_midis)\n",
    "print(\"Total notes in all the Chopin midis in the dataset:\", len(Corpus))"
   ]
  },
  {
   "cell_type": "markdown",
   "id": "4410e76d",
   "metadata": {},
   "source": [
    "So we have our data in the form of a corpus. A list of strings, if you will. Each string indicates a musical note."
   ]
  },
  {
   "cell_type": "code",
   "execution_count": 33,
   "id": "cba603d1",
   "metadata": {},
   "outputs": [
    {
     "name": "stdout",
     "output_type": "stream",
     "text": [
      "First fifty values in the Corpus: ['7.0', 'G3', '0.4', 'E3', '0.4.7', 'A4', '9.11', 'G3', '5.7', '2.5', '2.5.7', 'A4', '9.0', 'G3', '4.7', '0.4', '0.4.7', 'A4', '4.9', 'B3', '4.7', '4.7', '4.7.11', 'C5', '0.5', 'E4', '4.9', '9.0', '9.0.4', '2', '2.6', 'E4', '9.0', 'C4', '9.0.4', '2', '5.7', 'E4', '7.11', 'B3', '4.7.11', '2', '7', 'B3', '2.5', 'F3', '11.2.5', 'A4', '9.0', 'G3']\n"
     ]
    }
   ],
   "source": [
    "print(\"First fifty values in the Corpus:\", Corpus[:50])"
   ]
  },
  {
   "cell_type": "code",
   "execution_count": 34,
   "id": "711cc9ba",
   "metadata": {},
   "outputs": [
    {
     "name": "stdout",
     "output_type": "stream",
     "text": [
      "Total unique notes in the Corpus: 397\n"
     ]
    }
   ],
   "source": [
    "count_num = Counter(Corpus)\n",
    "print(\"Total unique notes in the Corpus:\", len(count_num))"
   ]
  },
  {
   "cell_type": "code",
   "execution_count": 35,
   "id": "b98064c4",
   "metadata": {},
   "outputs": [
    {
     "name": "stdout",
     "output_type": "stream",
     "text": [
      "Average recurrenc for a note in Corpus: 145.8110831234257\n",
      "Most frequent note in Corpus appeared: 1627 times\n",
      "Least frequent note in Corpus appeared: 1 time\n"
     ]
    }
   ],
   "source": [
    "Notes = list(count_num.keys())\n",
    "Recurrence = list(count_num.values())\n",
    "#Average recurrenc for a note in Corpus\n",
    "def Average(lst):\n",
    "    return sum(lst) / len(lst)\n",
    "print(\"Average recurrenc for a note in Corpus:\", Average(Recurrence))\n",
    "print(\"Most frequent note in Corpus appeared:\", max(Recurrence), \"times\")\n",
    "print(\"Least frequent note in Corpus appeared:\", min(Recurrence), \"time\")"
   ]
  },
  {
   "cell_type": "markdown",
   "id": "f50d6287",
   "metadata": {},
   "source": [
    "Clearly, there are some very rare notes in the melody; some so rare that it was played only once in the whole data. This would create a lot of problems. To spare us the error reports, let us have a look at the frequency of the notes. And for simplicity, we shall be eliminating some of the least occurring notes."
   ]
  },
  {
   "cell_type": "code",
   "execution_count": 36,
   "id": "1a17a8f6",
   "metadata": {},
   "outputs": [
    {
     "data": {
      "image/png": "[encoded data removed]",
      "text/plain": [
       "<Figure size 1800x300 with 1 Axes>"
      ]
     },
     "metadata": {
      "image/png": {
       "height": 315,
       "width": 1470
      }
     },
     "output_type": "display_data"
    }
   ],
   "source": [
    "plt.figure(figsize=(18,3),facecolor=\"#97BACB\")\n",
    "bins = np.arange(0,(max(Recurrence)), 50) \n",
    "plt.hist(Recurrence, bins=bins, color=\"#97BACB\")\n",
    "plt.axvline(x=100,color=\"#DBACC1\")\n",
    "plt.title(\"Frequency Distribution Of Notes In The Corpus\")\n",
    "plt.xlabel(\"Frequency Of Chords in Corpus\")\n",
    "plt.ylabel(\"Number Of Chords\")\n",
    "plt.show()"
   ]
  },
  {
   "cell_type": "markdown",
   "id": "247df4c9",
   "metadata": {},
   "source": [
    "We will be taking out the notes that were played less than 100 times."
   ]
  },
  {
   "cell_type": "code",
   "execution_count": 37,
   "id": "055d0c5b",
   "metadata": {},
   "outputs": [
    {
     "name": "stdout",
     "output_type": "stream",
     "text": [
      "Total number of notes that occur less than 100 times: 271\n"
     ]
    }
   ],
   "source": [
    "rare_note = []\n",
    "for index, (key, value) in enumerate(count_num.items()):\n",
    "    if value < 100:\n",
    "        m =  key\n",
    "        rare_note.append(m)\n",
    "        \n",
    "print(\"Total number of notes that occur less than 100 times:\", len(rare_note))"
   ]
  },
  {
   "cell_type": "code",
   "execution_count": 38,
   "id": "8326f08c",
   "metadata": {},
   "outputs": [
    {
     "name": "stdout",
     "output_type": "stream",
     "text": [
      "Length of Corpus after elemination the rare notes: 53713\n"
     ]
    }
   ],
   "source": [
    "for element in Corpus:\n",
    "    if element in rare_note:\n",
    "        Corpus.remove(element)\n",
    "\n",
    "print(\"Length of Corpus after elemination the rare notes:\", len(Corpus))"
   ]
  },
  {
   "cell_type": "markdown",
   "id": "c39a27c4",
   "metadata": {},
   "source": [
    "Finally! This is the cleaned data Corpus that we will be using for the music generation. Now we will be preprocessing this Corpus for the training model."
   ]
  },
  {
   "cell_type": "markdown",
   "id": "7e811bf4",
   "metadata": {},
   "source": [
    "Notes are basically sound waves. In music, we have certain specific combinations of Frequency and Wavelength standardized as said notes. Our Corpus has the name of that note. As we parsed the data at the time of loading we took the help of the music21 library (by nice people at MIT); The library fetches Frequency, Wavelength, duration etc for the given notes."
   ]
  },
  {
   "cell_type": "code",
   "execution_count": 39,
   "id": "a2210d67",
   "metadata": {},
   "outputs": [
    {
     "name": "stdout",
     "output_type": "stream",
     "text": [
      "Total number of characters: 53713\n",
      "Number of unique characters: 266\n"
     ]
    }
   ],
   "source": [
    "symb = sorted(list(set(Corpus)))\n",
    "\n",
    "L_corpus = len(Corpus) #length of corpus\n",
    "L_symb = len(symb) #length of total unique characters\n",
    "\n",
    "#Building dictionary to access the vocabulary from indices and vice versa\n",
    "mapping = dict((c, i) for i, c in enumerate(symb))\n",
    "reverse_mapping = dict((i, c) for i, c in enumerate(symb))\n",
    "\n",
    "print(\"Total number of characters:\", L_corpus)\n",
    "print(\"Number of unique characters:\", L_symb)"
   ]
  },
  {
   "cell_type": "code",
   "execution_count": 40,
   "id": "89989fe1",
   "metadata": {},
   "outputs": [
    {
     "name": "stdout",
     "output_type": "stream",
     "text": [
      "Total number of sequences in the Corpus: 53673\n"
     ]
    }
   ],
   "source": [
    "length = 40\n",
    "features = []\n",
    "targets = []\n",
    "for i in range(0, L_corpus - length, 1):\n",
    "    feature = Corpus[i:i + length]\n",
    "    target = Corpus[i + length]\n",
    "    features.append([mapping[j] for j in feature])\n",
    "    targets.append(mapping[target])\n",
    "    \n",
    "    \n",
    "L_datapoints = len(targets)\n",
    "print(\"Total number of sequences in the Corpus:\", L_datapoints)"
   ]
  },
  {
   "cell_type": "code",
   "execution_count": 41,
   "id": "460e7f04",
   "metadata": {},
   "outputs": [],
   "source": [
    "# reshape X and normalize\n",
    "X = (np.reshape(features, (L_datapoints, length, 1)))/ float(L_symb)\n",
    "# one hot encode the output variable\n",
    "y = tensorflow.keras.utils.to_categorical(targets) "
   ]
  },
  {
   "cell_type": "code",
   "execution_count": 42,
   "id": "cae1dd2d",
   "metadata": {},
   "outputs": [],
   "source": [
    "#Taking out a subset of data to be used as seed\n",
    "X_train, X_seed, y_train, y_seed = train_test_split(X, y, test_size=0.2, random_state=42)"
   ]
  },
  {
   "cell_type": "code",
   "execution_count": 43,
   "id": "4091b271",
   "metadata": {},
   "outputs": [],
   "source": [
    "#Initialising the Model\n",
    "model = Sequential()\n",
    "#Adding layers\n",
    "model.add(LSTM(512, input_shape=(X.shape[1], X.shape[2]), return_sequences=True))\n",
    "model.add(Dropout(0.1))\n",
    "model.add(LSTM(256))\n",
    "model.add(Dense(256))\n",
    "model.add(Dropout(0.1))\n",
    "model.add(Dense(y.shape[1], activation='softmax'))\n",
    "#Compiling the model for training  \n",
    "opt = Adamax(learning_rate=0.01)\n",
    "model.compile(loss='categorical_crossentropy', optimizer=opt)"
   ]
  },
  {
   "cell_type": "code",
   "execution_count": 44,
   "id": "38842b1b",
   "metadata": {},
   "outputs": [
    {
     "name": "stdout",
     "output_type": "stream",
     "text": [
      "Model: \"sequential\"\n",
      "_________________________________________________________________\n",
      " Layer (type)                Output Shape              Param #   \n",
      "=================================================================\n",
      " lstm (LSTM)                 (None, 40, 512)           1052672   \n",
      "                                                                 \n",
      " dropout (Dropout)           (None, 40, 512)           0         \n",
      "                                                                 \n",
      " lstm_1 (LSTM)               (None, 256)               787456    \n",
      "                                                                 \n",
      " dense (Dense)               (None, 256)               65792     \n",
      "                                                                 \n",
      " dropout_1 (Dropout)         (None, 256)               0         \n",
      "                                                                 \n",
      " dense_1 (Dense)             (None, 266)               68362     \n",
      "                                                                 \n",
      "=================================================================\n",
      "Total params: 1,974,282\n",
      "Trainable params: 1,974,282\n",
      "Non-trainable params: 0\n",
      "_________________________________________________________________\n"
     ]
    }
   ],
   "source": [
    "model.summary()"
   ]
  },
  {
   "cell_type": "code",
   "execution_count": 45,
   "id": "0e7173c1",
   "metadata": {},
   "outputs": [
    {
     "name": "stdout",
     "output_type": "stream",
     "text": [
      "Epoch 1/200\n",
      "168/168 [==============================] - 21s 23ms/step - loss: 4.7647\n",
      "Epoch 2/200\n",
      "168/168 [==============================] - 4s 23ms/step - loss: 4.6905\n",
      "Epoch 3/200\n",
      "168/168 [==============================] - 4s 25ms/step - loss: 4.6868\n",
      "Epoch 4/200\n",
      "168/168 [==============================] - 4s 24ms/step - loss: 4.6858\n",
      "Epoch 5/200\n",
      "168/168 [==============================] - 4s 25ms/step - loss: 4.6853\n",
      "Epoch 6/200\n",
      "168/168 [==============================] - 4s 24ms/step - loss: 4.6800\n",
      "Epoch 7/200\n",
      "168/168 [==============================] - 4s 25ms/step - loss: 4.6671\n",
      "Epoch 8/200\n",
      "168/168 [==============================] - 4s 24ms/step - loss: 4.6623\n",
      "Epoch 9/200\n",
      "168/168 [==============================] - 4s 24ms/step - loss: 4.6003\n",
      "Epoch 10/200\n",
      "168/168 [==============================] - 4s 23ms/step - loss: 4.5862\n",
      "Epoch 11/200\n",
      "168/168 [==============================] - 4s 24ms/step - loss: 4.6181\n",
      "Epoch 12/200\n",
      "168/168 [==============================] - 4s 25ms/step - loss: 4.6733\n",
      "Epoch 13/200\n",
      "168/168 [==============================] - 4s 24ms/step - loss: 4.6732\n",
      "Epoch 14/200\n",
      "168/168 [==============================] - 4s 25ms/step - loss: 4.6732\n",
      "Epoch 15/200\n",
      "168/168 [==============================] - 4s 26ms/step - loss: 4.6721\n",
      "Epoch 16/200\n",
      "168/168 [==============================] - 4s 25ms/step - loss: 4.6034\n",
      "Epoch 17/200\n",
      "168/168 [==============================] - 5s 28ms/step - loss: 4.4656\n",
      "Epoch 18/200\n",
      "168/168 [==============================] - 4s 26ms/step - loss: 4.4555\n",
      "Epoch 19/200\n",
      "168/168 [==============================] - 4s 27ms/step - loss: 4.4417\n",
      "Epoch 20/200\n",
      "168/168 [==============================] - 4s 26ms/step - loss: 4.4283\n",
      "Epoch 21/200\n",
      "168/168 [==============================] - 5s 27ms/step - loss: 4.4221\n",
      "Epoch 22/200\n",
      "168/168 [==============================] - 5s 28ms/step - loss: 4.4176\n",
      "Epoch 23/200\n",
      "168/168 [==============================] - 4s 26ms/step - loss: 4.4136\n",
      "Epoch 24/200\n",
      "168/168 [==============================] - 4s 26ms/step - loss: 4.4062\n",
      "Epoch 25/200\n",
      "168/168 [==============================] - 4s 26ms/step - loss: 4.4010\n",
      "Epoch 26/200\n",
      "168/168 [==============================] - 4s 26ms/step - loss: 4.3901\n",
      "Epoch 27/200\n",
      "168/168 [==============================] - 5s 28ms/step - loss: 4.3769\n",
      "Epoch 28/200\n",
      "168/168 [==============================] - 4s 25ms/step - loss: 4.3676\n",
      "Epoch 29/200\n",
      "168/168 [==============================] - 5s 28ms/step - loss: 4.3578\n",
      "Epoch 30/200\n",
      "168/168 [==============================] - 4s 26ms/step - loss: 4.3420\n",
      "Epoch 31/200\n",
      "168/168 [==============================] - 4s 27ms/step - loss: 4.3197\n",
      "Epoch 32/200\n",
      "168/168 [==============================] - 4s 26ms/step - loss: 4.2896\n",
      "Epoch 33/200\n",
      "168/168 [==============================] - 5s 29ms/step - loss: 4.2507\n",
      "Epoch 34/200\n",
      "168/168 [==============================] - 5s 29ms/step - loss: 4.2045\n",
      "Epoch 35/200\n",
      "168/168 [==============================] - 4s 25ms/step - loss: 4.1587\n",
      "Epoch 36/200\n",
      "168/168 [==============================] - 4s 24ms/step - loss: 4.1080\n",
      "Epoch 37/200\n",
      "168/168 [==============================] - 4s 25ms/step - loss: 4.0389\n",
      "Epoch 38/200\n",
      "168/168 [==============================] - 4s 26ms/step - loss: 3.9656\n",
      "Epoch 39/200\n",
      "168/168 [==============================] - 4s 26ms/step - loss: 3.8911\n",
      "Epoch 40/200\n",
      "168/168 [==============================] - 4s 26ms/step - loss: 3.7932\n",
      "Epoch 41/200\n",
      "168/168 [==============================] - 4s 25ms/step - loss: 3.6918\n",
      "Epoch 42/200\n",
      "168/168 [==============================] - 4s 23ms/step - loss: 3.5896\n",
      "Epoch 43/200\n",
      "168/168 [==============================] - 4s 22ms/step - loss: 3.4753\n",
      "Epoch 44/200\n",
      "168/168 [==============================] - 4s 22ms/step - loss: 3.3603\n",
      "Epoch 45/200\n",
      "168/168 [==============================] - 4s 23ms/step - loss: 3.2490\n",
      "Epoch 46/200\n",
      "168/168 [==============================] - 4s 23ms/step - loss: 3.1270\n",
      "Epoch 47/200\n",
      "168/168 [==============================] - 4s 23ms/step - loss: 2.9988\n",
      "Epoch 48/200\n",
      "168/168 [==============================] - 4s 23ms/step - loss: 2.8756\n",
      "Epoch 49/200\n",
      "168/168 [==============================] - 4s 23ms/step - loss: 2.7490\n",
      "Epoch 50/200\n",
      "168/168 [==============================] - 4s 23ms/step - loss: 2.6378\n",
      "Epoch 51/200\n",
      "168/168 [==============================] - 4s 22ms/step - loss: 2.5111\n",
      "Epoch 52/200\n",
      "168/168 [==============================] - 4s 23ms/step - loss: 2.4061\n",
      "Epoch 53/200\n",
      "168/168 [==============================] - 4s 23ms/step - loss: 2.2815\n",
      "Epoch 54/200\n",
      "168/168 [==============================] - 4s 23ms/step - loss: 2.1673\n",
      "Epoch 55/200\n",
      "168/168 [==============================] - 4s 23ms/step - loss: 2.0663\n",
      "Epoch 56/200\n",
      "168/168 [==============================] - 4s 23ms/step - loss: 1.9550\n",
      "Epoch 57/200\n",
      "168/168 [==============================] - 4s 23ms/step - loss: 1.8540\n",
      "Epoch 58/200\n",
      "168/168 [==============================] - 4s 23ms/step - loss: 1.7637\n",
      "Epoch 59/200\n",
      "168/168 [==============================] - 4s 23ms/step - loss: 1.6751\n",
      "Epoch 60/200\n",
      "168/168 [==============================] - 4s 23ms/step - loss: 1.5938\n",
      "Epoch 61/200\n",
      "168/168 [==============================] - 4s 23ms/step - loss: 1.4997\n",
      "Epoch 62/200\n",
      "168/168 [==============================] - 4s 24ms/step - loss: 1.4228\n",
      "Epoch 63/200\n",
      "168/168 [==============================] - 4s 23ms/step - loss: 1.3541\n",
      "Epoch 64/200\n",
      "168/168 [==============================] - 4s 23ms/step - loss: 1.2781\n",
      "Epoch 65/200\n",
      "168/168 [==============================] - 4s 23ms/step - loss: 1.2085\n",
      "Epoch 66/200\n",
      "168/168 [==============================] - 4s 23ms/step - loss: 1.1482\n",
      "Epoch 67/200\n",
      "168/168 [==============================] - 4s 24ms/step - loss: 1.0968\n",
      "Epoch 68/200\n",
      "168/168 [==============================] - 4s 23ms/step - loss: 1.0426\n",
      "Epoch 69/200\n",
      "168/168 [==============================] - 4s 23ms/step - loss: 1.0135\n",
      "Epoch 70/200\n",
      "168/168 [==============================] - 4s 23ms/step - loss: 0.9225\n",
      "Epoch 71/200\n",
      "168/168 [==============================] - 4s 24ms/step - loss: 0.8956\n",
      "Epoch 72/200\n",
      "168/168 [==============================] - 4s 24ms/step - loss: 0.8478\n",
      "Epoch 73/200\n",
      "168/168 [==============================] - 4s 24ms/step - loss: 0.8037\n",
      "Epoch 74/200\n",
      "168/168 [==============================] - 4s 24ms/step - loss: 0.7846\n",
      "Epoch 75/200\n",
      "168/168 [==============================] - 4s 24ms/step - loss: 0.7549\n",
      "Epoch 76/200\n",
      "168/168 [==============================] - 4s 24ms/step - loss: 0.7087\n",
      "Epoch 77/200\n",
      "168/168 [==============================] - 4s 24ms/step - loss: 0.6882\n",
      "Epoch 78/200\n",
      "168/168 [==============================] - 4s 24ms/step - loss: 0.6367\n",
      "Epoch 79/200\n",
      "168/168 [==============================] - 4s 25ms/step - loss: 0.6134\n",
      "Epoch 80/200\n",
      "168/168 [==============================] - 4s 24ms/step - loss: 0.5885\n",
      "Epoch 81/200\n",
      "168/168 [==============================] - 4s 24ms/step - loss: 0.5729\n",
      "Epoch 82/200\n",
      "168/168 [==============================] - 4s 25ms/step - loss: 0.5354\n",
      "Epoch 83/200\n",
      "168/168 [==============================] - 4s 25ms/step - loss: 0.5268\n",
      "Epoch 84/200\n",
      "168/168 [==============================] - 4s 26ms/step - loss: 0.5041\n",
      "Epoch 85/200\n",
      "168/168 [==============================] - 4s 24ms/step - loss: 0.4864\n",
      "Epoch 86/200\n",
      "168/168 [==============================] - 4s 24ms/step - loss: 0.4708\n",
      "Epoch 87/200\n",
      "168/168 [==============================] - 4s 24ms/step - loss: 0.4424\n",
      "Epoch 88/200\n",
      "168/168 [==============================] - 4s 24ms/step - loss: 0.4308\n",
      "Epoch 89/200\n",
      "168/168 [==============================] - 4s 24ms/step - loss: 0.4169\n",
      "Epoch 90/200\n",
      "168/168 [==============================] - 4s 24ms/step - loss: 0.4030\n",
      "Epoch 91/200\n",
      "168/168 [==============================] - 4s 24ms/step - loss: 0.3930\n",
      "Epoch 92/200\n",
      "168/168 [==============================] - 4s 24ms/step - loss: 0.3836\n",
      "Epoch 93/200\n",
      "168/168 [==============================] - 4s 24ms/step - loss: 0.3812\n",
      "Epoch 94/200\n",
      "168/168 [==============================] - 4s 24ms/step - loss: 0.3367\n",
      "Epoch 95/200\n",
      "168/168 [==============================] - 4s 24ms/step - loss: 0.3284\n",
      "Epoch 96/200\n",
      "168/168 [==============================] - 4s 25ms/step - loss: 0.3332\n",
      "Epoch 97/200\n",
      "168/168 [==============================] - 4s 25ms/step - loss: 0.3269\n",
      "Epoch 98/200\n",
      "168/168 [==============================] - 4s 25ms/step - loss: 0.3248\n",
      "Epoch 99/200\n",
      "168/168 [==============================] - 4s 25ms/step - loss: 0.3169\n",
      "Epoch 100/200\n",
      "168/168 [==============================] - 4s 25ms/step - loss: 0.3028\n",
      "Epoch 101/200\n",
      "168/168 [==============================] - 4s 25ms/step - loss: 0.3049\n",
      "Epoch 102/200\n",
      "168/168 [==============================] - 4s 25ms/step - loss: 0.2914\n",
      "Epoch 103/200\n",
      "168/168 [==============================] - 4s 25ms/step - loss: 0.2872\n",
      "Epoch 104/200\n",
      "168/168 [==============================] - 4s 26ms/step - loss: 0.2835\n",
      "Epoch 105/200\n",
      "168/168 [==============================] - 4s 26ms/step - loss: 0.2781\n",
      "Epoch 106/200\n",
      "168/168 [==============================] - 4s 26ms/step - loss: 0.2750\n",
      "Epoch 107/200\n",
      "168/168 [==============================] - 4s 25ms/step - loss: 0.2661\n",
      "Epoch 108/200\n",
      "168/168 [==============================] - 4s 23ms/step - loss: 0.2724\n",
      "Epoch 109/200\n",
      "168/168 [==============================] - 4s 23ms/step - loss: 0.2540\n",
      "Epoch 110/200\n",
      "168/168 [==============================] - 4s 24ms/step - loss: 0.2379\n",
      "Epoch 111/200\n",
      "168/168 [==============================] - 4s 25ms/step - loss: 0.2453\n",
      "Epoch 112/200\n",
      "168/168 [==============================] - 4s 23ms/step - loss: 0.2444\n",
      "Epoch 113/200\n",
      "168/168 [==============================] - 4s 24ms/step - loss: 0.2406\n",
      "Epoch 114/200\n",
      "168/168 [==============================] - 4s 24ms/step - loss: 0.2233\n",
      "Epoch 115/200\n",
      "168/168 [==============================] - 4s 24ms/step - loss: 0.2286\n",
      "Epoch 116/200\n",
      "168/168 [==============================] - 4s 25ms/step - loss: 0.2313\n",
      "Epoch 117/200\n",
      "168/168 [==============================] - 4s 26ms/step - loss: 0.2163\n",
      "Epoch 118/200\n",
      "168/168 [==============================] - 4s 26ms/step - loss: 0.2243\n",
      "Epoch 119/200\n",
      "168/168 [==============================] - 4s 24ms/step - loss: 0.2078\n",
      "Epoch 120/200\n",
      "168/168 [==============================] - 4s 25ms/step - loss: 0.2011\n",
      "Epoch 121/200\n",
      "168/168 [==============================] - 4s 25ms/step - loss: 0.2007\n",
      "Epoch 122/200\n",
      "168/168 [==============================] - 4s 25ms/step - loss: 0.2054\n",
      "Epoch 123/200\n",
      "168/168 [==============================] - 4s 25ms/step - loss: 0.2026\n",
      "Epoch 124/200\n",
      "168/168 [==============================] - 4s 25ms/step - loss: 0.2041\n",
      "Epoch 125/200\n",
      "168/168 [==============================] - 4s 25ms/step - loss: 0.1864\n",
      "Epoch 126/200\n",
      "168/168 [==============================] - 4s 24ms/step - loss: 0.1921\n",
      "Epoch 127/200\n",
      "168/168 [==============================] - 4s 25ms/step - loss: 0.1821\n",
      "Epoch 128/200\n",
      "168/168 [==============================] - 4s 26ms/step - loss: 0.1869\n",
      "Epoch 129/200\n",
      "168/168 [==============================] - 4s 26ms/step - loss: 0.1872\n",
      "Epoch 130/200\n",
      "168/168 [==============================] - 4s 26ms/step - loss: 0.1829\n",
      "Epoch 131/200\n",
      "168/168 [==============================] - 4s 26ms/step - loss: 0.1867\n",
      "Epoch 132/200\n",
      "168/168 [==============================] - 4s 27ms/step - loss: 0.1788\n",
      "Epoch 133/200\n",
      "168/168 [==============================] - 4s 27ms/step - loss: 0.1774\n",
      "Epoch 134/200\n",
      "168/168 [==============================] - 4s 26ms/step - loss: 0.1774\n",
      "Epoch 135/200\n",
      "168/168 [==============================] - 4s 26ms/step - loss: 0.1811\n",
      "Epoch 136/200\n",
      "168/168 [==============================] - 5s 27ms/step - loss: 0.1659\n",
      "Epoch 137/200\n",
      "168/168 [==============================] - 4s 26ms/step - loss: 0.1786\n",
      "Epoch 138/200\n",
      "168/168 [==============================] - 4s 27ms/step - loss: 0.1629\n",
      "Epoch 139/200\n",
      "168/168 [==============================] - 4s 26ms/step - loss: 0.1589\n",
      "Epoch 140/200\n",
      "168/168 [==============================] - 4s 27ms/step - loss: 0.1635\n",
      "Epoch 141/200\n",
      "168/168 [==============================] - 4s 26ms/step - loss: 0.1561\n",
      "Epoch 142/200\n",
      "168/168 [==============================] - 4s 26ms/step - loss: 0.1524\n",
      "Epoch 143/200\n",
      "168/168 [==============================] - 4s 26ms/step - loss: 0.1616\n",
      "Epoch 144/200\n",
      "168/168 [==============================] - 4s 25ms/step - loss: 0.1505\n",
      "Epoch 145/200\n",
      "168/168 [==============================] - 4s 25ms/step - loss: 0.1554\n",
      "Epoch 146/200\n",
      "168/168 [==============================] - 4s 25ms/step - loss: 0.1530\n",
      "Epoch 147/200\n",
      "168/168 [==============================] - 4s 25ms/step - loss: 0.1449\n",
      "Epoch 148/200\n",
      "168/168 [==============================] - 4s 25ms/step - loss: 0.1572\n",
      "Epoch 149/200\n",
      "168/168 [==============================] - 4s 24ms/step - loss: 0.1478\n",
      "Epoch 150/200\n",
      "168/168 [==============================] - 4s 26ms/step - loss: 0.1409\n",
      "Epoch 151/200\n",
      "168/168 [==============================] - 5s 27ms/step - loss: 0.1397\n",
      "Epoch 152/200\n",
      "168/168 [==============================] - 4s 26ms/step - loss: 0.1483\n",
      "Epoch 153/200\n",
      "168/168 [==============================] - 4s 25ms/step - loss: 0.1512\n",
      "Epoch 154/200\n",
      "168/168 [==============================] - 4s 26ms/step - loss: 0.1349\n",
      "Epoch 155/200\n",
      "168/168 [==============================] - 4s 25ms/step - loss: 0.1415\n",
      "Epoch 156/200\n",
      "168/168 [==============================] - 4s 24ms/step - loss: 0.1314\n",
      "Epoch 157/200\n",
      "168/168 [==============================] - 4s 25ms/step - loss: 0.1295\n",
      "Epoch 158/200\n",
      "168/168 [==============================] - 4s 27ms/step - loss: 0.1469\n",
      "Epoch 159/200\n",
      "168/168 [==============================] - 4s 25ms/step - loss: 0.1365\n",
      "Epoch 160/200\n",
      "168/168 [==============================] - 4s 26ms/step - loss: 0.1320\n",
      "Epoch 161/200\n",
      "168/168 [==============================] - 4s 26ms/step - loss: 0.1261\n",
      "Epoch 162/200\n",
      "168/168 [==============================] - 4s 26ms/step - loss: 0.1298\n",
      "Epoch 163/200\n",
      "168/168 [==============================] - 4s 27ms/step - loss: 0.1297\n",
      "Epoch 164/200\n",
      "168/168 [==============================] - 4s 25ms/step - loss: 0.1240\n",
      "Epoch 165/200\n",
      "168/168 [==============================] - 4s 26ms/step - loss: 0.1249\n",
      "Epoch 166/200\n",
      "168/168 [==============================] - 4s 26ms/step - loss: 0.1307\n",
      "Epoch 167/200\n",
      "168/168 [==============================] - 4s 26ms/step - loss: 0.1274\n",
      "Epoch 168/200\n",
      "168/168 [==============================] - 4s 26ms/step - loss: 0.1208\n",
      "Epoch 169/200\n",
      "168/168 [==============================] - 4s 26ms/step - loss: 0.1301\n",
      "Epoch 170/200\n",
      "168/168 [==============================] - 4s 26ms/step - loss: 0.1273\n",
      "Epoch 171/200\n",
      "168/168 [==============================] - 4s 26ms/step - loss: 0.1176\n",
      "Epoch 172/200\n",
      "168/168 [==============================] - 4s 27ms/step - loss: 0.1268\n",
      "Epoch 173/200\n",
      "168/168 [==============================] - 4s 24ms/step - loss: 0.1192\n",
      "Epoch 174/200\n",
      "168/168 [==============================] - 4s 25ms/step - loss: 0.1235\n",
      "Epoch 175/200\n",
      "168/168 [==============================] - 4s 25ms/step - loss: 0.1202\n",
      "Epoch 176/200\n",
      "168/168 [==============================] - 4s 25ms/step - loss: 0.1173\n",
      "Epoch 177/200\n",
      "168/168 [==============================] - 4s 26ms/step - loss: 0.1070\n",
      "Epoch 178/200\n",
      "168/168 [==============================] - 4s 26ms/step - loss: 0.1130\n",
      "Epoch 179/200\n",
      "168/168 [==============================] - 4s 26ms/step - loss: 0.1103\n",
      "Epoch 180/200\n",
      "168/168 [==============================] - 4s 26ms/step - loss: 0.1103\n",
      "Epoch 181/200\n",
      "168/168 [==============================] - 4s 26ms/step - loss: 0.1090\n",
      "Epoch 182/200\n",
      "168/168 [==============================] - 4s 26ms/step - loss: 0.1118\n",
      "Epoch 183/200\n",
      "168/168 [==============================] - 4s 26ms/step - loss: 0.1126\n",
      "Epoch 184/200\n",
      "168/168 [==============================] - 4s 26ms/step - loss: 0.1110\n",
      "Epoch 185/200\n",
      "168/168 [==============================] - 4s 26ms/step - loss: 0.1090\n",
      "Epoch 186/200\n",
      "168/168 [==============================] - 4s 26ms/step - loss: 0.1000\n",
      "Epoch 187/200\n",
      "168/168 [==============================] - 4s 26ms/step - loss: 0.0990\n",
      "Epoch 188/200\n",
      "168/168 [==============================] - 4s 27ms/step - loss: 0.1008\n",
      "Epoch 189/200\n",
      "168/168 [==============================] - 4s 26ms/step - loss: 0.1163\n",
      "Epoch 190/200\n",
      "168/168 [==============================] - 4s 26ms/step - loss: 0.1136\n",
      "Epoch 191/200\n",
      "168/168 [==============================] - 4s 25ms/step - loss: 0.1063\n",
      "Epoch 192/200\n",
      "168/168 [==============================] - 4s 25ms/step - loss: 0.1051\n",
      "Epoch 193/200\n",
      "168/168 [==============================] - 4s 26ms/step - loss: 0.1060\n",
      "Epoch 194/200\n"
     ]
    },
    {
     "name": "stdout",
     "output_type": "stream",
     "text": [
      "168/168 [==============================] - 4s 27ms/step - loss: 0.1087\n",
      "Epoch 195/200\n",
      "168/168 [==============================] - 4s 26ms/step - loss: 0.0983\n",
      "Epoch 196/200\n",
      "168/168 [==============================] - 4s 25ms/step - loss: 0.1031\n",
      "Epoch 197/200\n",
      "168/168 [==============================] - 4s 23ms/step - loss: 0.1080\n",
      "Epoch 198/200\n",
      "168/168 [==============================] - 3s 16ms/step - loss: 0.0990\n",
      "Epoch 199/200\n",
      "168/168 [==============================] - 3s 16ms/step - loss: 0.0973\n",
      "Epoch 200/200\n",
      "168/168 [==============================] - 3s 16ms/step - loss: 0.1089\n"
     ]
    }
   ],
   "source": [
    "history = model.fit(X_train, y_train, batch_size=256, epochs=200)"
   ]
  },
  {
   "cell_type": "code",
   "execution_count": 46,
   "id": "2ae4c45e",
   "metadata": {},
   "outputs": [
    {
     "data": {
      "text/plain": [
       "[Text(0.5, 0, 'Epochs')]"
      ]
     },
     "execution_count": 46,
     "metadata": {},
     "output_type": "execute_result"
    },
    {
     "data": {
      "image/png": "[encoded data removed]",
      "text/plain": [
       "<Figure size 1500x400 with 1 Axes>"
      ]
     },
     "metadata": {
      "image/png": {
       "height": 411,
       "width": 1220
      }
     },
     "output_type": "display_data"
    }
   ],
   "source": [
    "history_df = pd.DataFrame(history.history)\n",
    "fig = plt.figure(figsize=(15,4), facecolor=\"#97BACB\")\n",
    "fig.suptitle(\"Learning Plot of Model for Loss\")\n",
    "pl=sns.lineplot(data=history_df[\"loss\"],color=\"#444160\")\n",
    "pl.set(ylabel =\"Training Loss\")\n",
    "pl.set(xlabel =\"Epochs\")"
   ]
  },
  {
   "cell_type": "code",
   "execution_count": 71,
   "id": "0318bb52",
   "metadata": {},
   "outputs": [],
   "source": [
    "model.save('generator.keras')"
   ]
  },
  {
   "cell_type": "code",
   "execution_count": 51,
   "id": "15ba11f8",
   "metadata": {},
   "outputs": [],
   "source": [
    "def show(music):\n",
    "    display(Image(str(music.write(\"paper.jpeg\"))))\n",
    "    \n",
    "def chords_n_notes(Snippet):\n",
    "    Melody = []\n",
    "    offset = 0 #Incremental\n",
    "    for i in Snippet:\n",
    "        #If it is chord\n",
    "        if (\".\" in i or i.isdigit()):\n",
    "            chord_notes = i.split(\".\") #Seperating the notes in chord\n",
    "            notes = [] \n",
    "            for j in chord_notes:\n",
    "                inst_note=int(j)\n",
    "                note_snip = note.Note(inst_note)            \n",
    "                notes.append(note_snip)\n",
    "                chord_snip = chord.Chord(notes)\n",
    "                chord_snip.offset = offset\n",
    "                Melody.append(chord_snip)\n",
    "        # pattern is a note\n",
    "        else: \n",
    "            note_snip = note.Note(i)\n",
    "            note_snip.offset = offset\n",
    "            Melody.append(note_snip)\n",
    "        # increase offset each iteration so that notes do not stack\n",
    "        offset += 1\n",
    "    Melody_midi = stream.Stream(Melody)   \n",
    "    return Melody_midi\n",
    "\n",
    "# Melody_Snippet = chords_n_notes(Corpus[:100])\n",
    "# show(Melody_Snippet)"
   ]
  },
  {
   "cell_type": "code",
   "execution_count": 54,
   "id": "d5ad7ed0",
   "metadata": {},
   "outputs": [],
   "source": [
    "def Malody_Generator(Note_Count):\n",
    "    seed = X_seed[np.random.randint(0,len(X_seed)-1)]\n",
    "    Music = \"\"\n",
    "    Notes_Generated=[]\n",
    "    for i in range(Note_Count):\n",
    "        seed = seed.reshape(1,length,1)\n",
    "        prediction = model.predict(seed, verbose=0)[0]\n",
    "        prediction = np.log(prediction) / 1.0 #diversity\n",
    "        exp_preds = np.exp(prediction)\n",
    "        prediction = exp_preds / np.sum(exp_preds)\n",
    "        index = np.argmax(prediction)\n",
    "        index_N = index/ float(L_symb)   \n",
    "        Notes_Generated.append(index)\n",
    "        Music = [reverse_mapping[char] for char in Notes_Generated]\n",
    "        seed = np.insert(seed[0],len(seed[0]),index_N)\n",
    "        seed = seed[1:]\n",
    "    #Now, we have music in form or a list of chords and notes and we want to be a midi file.\n",
    "    Melody = chords_n_notes(Music)\n",
    "    Melody_midi = stream.Stream(Melody)   \n",
    "    return Music,Melody_midi\n",
    "\n",
    "\n",
    "#getting the Notes and Melody created by the model\n",
    "Music_notes, Melody = Malody_Generator(100)\n",
    "# show(Melody)"
   ]
  },
  {
   "cell_type": "code",
   "execution_count": 57,
   "id": "0ff89ca1",
   "metadata": {},
   "outputs": [
    {
     "data": {
      "text/plain": [
       "'Melody_Generated.mid'"
      ]
     },
     "execution_count": 57,
     "metadata": {},
     "output_type": "execute_result"
    }
   ],
   "source": [
    "#To save the generated melody\n",
    "Melody.write('midi','Melody_Generated.mid')"
   ]
  },
  {
   "cell_type": "code",
   "execution_count": null,
   "id": "c13fe7ac",
   "metadata": {},
   "outputs": [],
   "source": []
  }
 ],
 "metadata": {
  "kernelspec": {
   "display_name": "Python 3 (ipykernel)",
   "language": "python",
   "name": "python3"
  },
  "language_info": {
   "codemirror_mode": {
    "name": "ipython",
    "version": 3
   },
   "file_extension": ".py",
   "mimetype": "text/x-python",
   "name": "python",
   "nbconvert_exporter": "python",
   "pygments_lexer": "ipython3",
   "version": "3.11.5"
  }
 },
 "nbformat": 4,
 "nbformat_minor": 5
}
