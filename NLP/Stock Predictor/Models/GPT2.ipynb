{
 "cells": [
  {
   "cell_type": "code",
   "execution_count": 5,
   "id": "dcec3012",
   "metadata": {},
   "outputs": [],
   "source": [
    "import torch\n",
    "import pandas as pd\n",
    "from transformers import DistilBertTokenizer, DistilBertForSequenceClassification"
   ]
  },
  {
   "cell_type": "code",
   "execution_count": 6,
   "id": "2e585208",
   "metadata": {},
   "outputs": [
    {
     "name": "stderr",
     "output_type": "stream",
     "text": [
      "Some weights of the model checkpoint at distilbert-base-uncased were not used when initializing DistilBertForSequenceClassification: ['vocab_transform.weight', 'vocab_layer_norm.bias', 'vocab_transform.bias', 'vocab_projector.bias', 'vocab_layer_norm.weight']\n",
      "- This IS expected if you are initializing DistilBertForSequenceClassification from the checkpoint of a model trained on another task or with another architecture (e.g. initializing a BertForSequenceClassification model from a BertForPreTraining model).\n",
      "- This IS NOT expected if you are initializing DistilBertForSequenceClassification from the checkpoint of a model that you expect to be exactly identical (initializing a BertForSequenceClassification model from a BertForSequenceClassification model).\n",
      "Some weights of DistilBertForSequenceClassification were not initialized from the model checkpoint at distilbert-base-uncased and are newly initialized: ['pre_classifier.weight', 'classifier.weight', 'pre_classifier.bias', 'classifier.bias']\n",
      "You should probably TRAIN this model on a down-stream task to be able to use it for predictions and inference.\n"
     ]
    }
   ],
   "source": [
    "model_name = \"distilbert-base-uncased\"\n",
    "tokenizer = DistilBertTokenizer.from_pretrained(model_name)\n",
    "model = DistilBertForSequenceClassification.from_pretrained(model_name)"
   ]
  },
  {
   "cell_type": "code",
   "execution_count": 7,
   "id": "a9fc5d65",
   "metadata": {},
   "outputs": [],
   "source": [
    "def get_sentiment_scores(comments):\n",
    "    encoded_comments = tokenizer(comments, padding=True, truncation=True, return_tensors=\"pt\")\n",
    "    with torch.no_grad():\n",
    "        logits = model(**encoded_comments).logits\n",
    "    probabilities = torch.softmax(logits, dim=1)\n",
    "    positive_scores = probabilities[:, 1].tolist()\n",
    "    return positive_scores"
   ]
  },
  {
   "cell_type": "code",
   "execution_count": 11,
   "id": "57a457c2",
   "metadata": {},
   "outputs": [],
   "source": [
    "data = pd.read_csv('APPL_tweets.csv')\n",
    "comments = data['Tweet'].tolist()"
   ]
  },
  {
   "cell_type": "code",
   "execution_count": 12,
   "id": "9588639f",
   "metadata": {},
   "outputs": [],
   "source": [
    "sentiment_scores = get_sentiment_scores(comments)\n",
    "data['sentiment_score'] = sentiment_scores"
   ]
  },
  {
   "cell_type": "code",
   "execution_count": 13,
   "id": "2a785a65",
   "metadata": {},
   "outputs": [
    {
     "data": {
      "text/html": [
       "<div>\n",
       "<style scoped>\n",
       "    .dataframe tbody tr th:only-of-type {\n",
       "        vertical-align: middle;\n",
       "    }\n",
       "\n",
       "    .dataframe tbody tr th {\n",
       "        vertical-align: top;\n",
       "    }\n",
       "\n",
       "    .dataframe thead th {\n",
       "        text-align: right;\n",
       "    }\n",
       "</style>\n",
       "<table border=\"1\" class=\"dataframe\">\n",
       "  <thead>\n",
       "    <tr style=\"text-align: right;\">\n",
       "      <th></th>\n",
       "      <th>Unnamed: 0</th>\n",
       "      <th>Time</th>\n",
       "      <th>User</th>\n",
       "      <th>Tweet</th>\n",
       "      <th>sentiment_score</th>\n",
       "    </tr>\n",
       "  </thead>\n",
       "  <tbody>\n",
       "    <tr>\n",
       "      <th>0</th>\n",
       "      <td>0</td>\n",
       "      <td>2023-07-27 09:51:51+00:00</td>\n",
       "      <td>_li_glass_</td>\n",
       "      <td>@appl_esir 画这么牛逼……</td>\n",
       "      <td>0.528260</td>\n",
       "    </tr>\n",
       "    <tr>\n",
       "      <th>1</th>\n",
       "      <td>1</td>\n",
       "      <td>2023-07-27 09:46:24+00:00</td>\n",
       "      <td>kz_train</td>\n",
       "      <td>@appl_morning1 お疲れ様でした😅\\n自分も若干疲れが出ました…( -.-) =...</td>\n",
       "      <td>0.522734</td>\n",
       "    </tr>\n",
       "    <tr>\n",
       "      <th>2</th>\n",
       "      <td>2</td>\n",
       "      <td>2023-07-27 09:45:30+00:00</td>\n",
       "      <td>youyou_appl</td>\n",
       "      <td>ガヴィルさんも文面のシンプルさ以上に強くなりそうで嬉しいな</td>\n",
       "      <td>0.533037</td>\n",
       "    </tr>\n",
       "    <tr>\n",
       "      <th>3</th>\n",
       "      <td>3</td>\n",
       "      <td>2023-07-27 09:44:04+00:00</td>\n",
       "      <td>youyou_appl</td>\n",
       "      <td>アビサルまだ上があるのか……\\nまだ海イベあるだろうし楽しみになってきたな</td>\n",
       "      <td>0.531597</td>\n",
       "    </tr>\n",
       "    <tr>\n",
       "      <th>4</th>\n",
       "      <td>4</td>\n",
       "      <td>2023-07-27 09:24:48+00:00</td>\n",
       "      <td>APPL_RNP</td>\n",
       "      <td>「こんな時でもお腹は空くんだなぁ(夜飯作ってる)」</td>\n",
       "      <td>0.519389</td>\n",
       "    </tr>\n",
       "  </tbody>\n",
       "</table>\n",
       "</div>"
      ],
      "text/plain": [
       "   Unnamed: 0                       Time         User  \\\n",
       "0           0  2023-07-27 09:51:51+00:00   _li_glass_   \n",
       "1           1  2023-07-27 09:46:24+00:00     kz_train   \n",
       "2           2  2023-07-27 09:45:30+00:00  youyou_appl   \n",
       "3           3  2023-07-27 09:44:04+00:00  youyou_appl   \n",
       "4           4  2023-07-27 09:24:48+00:00     APPL_RNP   \n",
       "\n",
       "                                               Tweet  sentiment_score  \n",
       "0                                 @appl_esir 画这么牛逼……         0.528260  \n",
       "1  @appl_morning1 お疲れ様でした😅\\n自分も若干疲れが出ました…( -.-) =...         0.522734  \n",
       "2                      ガヴィルさんも文面のシンプルさ以上に強くなりそうで嬉しいな         0.533037  \n",
       "3              アビサルまだ上があるのか……\\nまだ海イベあるだろうし楽しみになってきたな         0.531597  \n",
       "4                          「こんな時でもお腹は空くんだなぁ(夜飯作ってる)」         0.519389  "
      ]
     },
     "execution_count": 13,
     "metadata": {},
     "output_type": "execute_result"
    }
   ],
   "source": [
    "data.head()"
   ]
  },
  {
   "cell_type": "code",
   "execution_count": 14,
   "id": "9d2e6493",
   "metadata": {},
   "outputs": [],
   "source": [
    "threshold = 0.5\n",
    "positive_sentiment = data['sentiment_score'] > threshold"
   ]
  },
  {
   "cell_type": "code",
   "execution_count": null,
   "id": "17884a2b",
   "metadata": {},
   "outputs": [],
   "source": []
  }
 ],
 "metadata": {
  "kernelspec": {
   "display_name": "Python 3 (ipykernel)",
   "language": "python",
   "name": "python3"
  },
  "language_info": {
   "codemirror_mode": {
    "name": "ipython",
    "version": 3
   },
   "file_extension": ".py",
   "mimetype": "text/x-python",
   "name": "python",
   "nbconvert_exporter": "python",
   "pygments_lexer": "ipython3",
   "version": "3.11.4"
  }
 },
 "nbformat": 4,
 "nbformat_minor": 5
}
