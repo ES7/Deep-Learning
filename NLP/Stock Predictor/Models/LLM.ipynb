{
 "cells": [
  {
   "cell_type": "code",
   "execution_count": 1,
   "id": "553e35e1",
   "metadata": {},
   "outputs": [],
   "source": [
    "import pandas as pd"
   ]
  },
  {
   "cell_type": "code",
   "execution_count": 2,
   "id": "4754ecc9",
   "metadata": {},
   "outputs": [],
   "source": [
    "df = pd.read_csv('AVGO_tweets.csv')"
   ]
  },
  {
   "cell_type": "code",
   "execution_count": 3,
   "id": "b60d3388",
   "metadata": {},
   "outputs": [
    {
     "data": {
      "text/html": [
       "<div>\n",
       "<style scoped>\n",
       "    .dataframe tbody tr th:only-of-type {\n",
       "        vertical-align: middle;\n",
       "    }\n",
       "\n",
       "    .dataframe tbody tr th {\n",
       "        vertical-align: top;\n",
       "    }\n",
       "\n",
       "    .dataframe thead th {\n",
       "        text-align: right;\n",
       "    }\n",
       "</style>\n",
       "<table border=\"1\" class=\"dataframe\">\n",
       "  <thead>\n",
       "    <tr style=\"text-align: right;\">\n",
       "      <th></th>\n",
       "      <th>Unnamed: 0</th>\n",
       "      <th>Time</th>\n",
       "      <th>User</th>\n",
       "      <th>Tweet</th>\n",
       "    </tr>\n",
       "  </thead>\n",
       "  <tbody>\n",
       "    <tr>\n",
       "      <th>0</th>\n",
       "      <td>0</td>\n",
       "      <td>2023-04-08 22:57:26+00:00</td>\n",
       "      <td>starks2765</td>\n",
       "      <td>RT @dividendology: Has your opinion on $SCHD c...</td>\n",
       "    </tr>\n",
       "    <tr>\n",
       "      <th>1</th>\n",
       "      <td>1</td>\n",
       "      <td>2023-04-08 22:52:06+00:00</td>\n",
       "      <td>jakestettey</td>\n",
       "      <td>RT @CollarEscape: @Smartnetworth1 $MSFT-(+709%...</td>\n",
       "    </tr>\n",
       "    <tr>\n",
       "      <th>2</th>\n",
       "      <td>2</td>\n",
       "      <td>2023-04-08 22:45:12+00:00</td>\n",
       "      <td>ssbb8888</td>\n",
       "      <td>$AVGO اللي طلبه بالخاص اشوفه سلبي نموذج سلبي و...</td>\n",
       "    </tr>\n",
       "  </tbody>\n",
       "</table>\n",
       "</div>"
      ],
      "text/plain": [
       "   Unnamed: 0                       Time         User  \\\n",
       "0           0  2023-04-08 22:57:26+00:00   starks2765   \n",
       "1           1  2023-04-08 22:52:06+00:00  jakestettey   \n",
       "2           2  2023-04-08 22:45:12+00:00     ssbb8888   \n",
       "\n",
       "                                               Tweet  \n",
       "0  RT @dividendology: Has your opinion on $SCHD c...  \n",
       "1  RT @CollarEscape: @Smartnetworth1 $MSFT-(+709%...  \n",
       "2  $AVGO اللي طلبه بالخاص اشوفه سلبي نموذج سلبي و...  "
      ]
     },
     "execution_count": 3,
     "metadata": {},
     "output_type": "execute_result"
    }
   ],
   "source": [
    "df.head(3)"
   ]
  },
  {
   "cell_type": "code",
   "execution_count": 4,
   "id": "381de8f4",
   "metadata": {},
   "outputs": [],
   "source": [
    "from transformers import BertTokenizer"
   ]
  },
  {
   "cell_type": "code",
   "execution_count": 5,
   "id": "2df86c6b",
   "metadata": {},
   "outputs": [],
   "source": [
    "model_name = 'bert-base-cased'\n",
    "tokenizer = BertTokenizer.from_pretrained(model_name)"
   ]
  },
  {
   "cell_type": "code",
   "execution_count": 6,
   "id": "9fb4f763",
   "metadata": {},
   "outputs": [
    {
     "name": "stdout",
     "output_type": "stream",
     "text": [
      "[SEP] 102\n",
      "[CLS] 101\n",
      "[PAD] 0\n",
      "[UNK] 100\n"
     ]
    }
   ],
   "source": [
    "# Some of the common BERT tokens\n",
    "print(tokenizer.sep_token, tokenizer.sep_token_id) # marker for ending of a sentence\n",
    "print(tokenizer.cls_token, tokenizer.cls_token_id) # start of each sentence, so BERT knows we’re doing classification\n",
    "print(tokenizer.pad_token, tokenizer.pad_token_id) # special token for padding\n",
    "print(tokenizer.unk_token, tokenizer.unk_token_id) # tokens not found in training set "
   ]
  },
  {
   "cell_type": "code",
   "execution_count": 7,
   "id": "1a1407f7",
   "metadata": {},
   "outputs": [
    {
     "name": "stderr",
     "output_type": "stream",
     "text": [
      "Truncation was not explicitly activated but `max_length` is provided a specific value, please use `truncation=True` to explicitly truncate examples to max length. Defaulting to 'longest_first' truncation strategy. If you encode pairs of sequences (GLUE-style) with the tokenizer you can select this strategy more precisely by providing a specific strategy to `truncation`.\n"
     ]
    }
   ],
   "source": [
    "token_lens = []\n",
    "\n",
    "for txt in df.Tweet:\n",
    "    tokens = tokenizer.encode(txt, max_length=512)\n",
    "    token_lens.append(len(tokens))"
   ]
  },
  {
   "cell_type": "code",
   "execution_count": 8,
   "id": "a22f950e",
   "metadata": {},
   "outputs": [],
   "source": [
    "import seaborn as sns\n",
    "import matplotlib.pyplot as plt"
   ]
  },
  {
   "cell_type": "code",
   "execution_count": 9,
   "id": "e74e1d2f",
   "metadata": {},
   "outputs": [
    {
     "name": "stderr",
     "output_type": "stream",
     "text": [
      "C:\\Users\\sayed\\AppData\\Local\\Temp\\ipykernel_33840\\1955974474.py:2: UserWarning: \n",
      "\n",
      "`distplot` is a deprecated function and will be removed in seaborn v0.14.0.\n",
      "\n",
      "Please adapt your code to use either `displot` (a figure-level function with\n",
      "similar flexibility) or `histplot` (an axes-level function for histograms).\n",
      "\n",
      "For a guide to updating your code to use the new functions, please see\n",
      "https://gist.github.com/mwaskom/de44147ed2974457ad6372750bbe5751\n",
      "\n",
      "  sns.distplot(token_lens)\n"
     ]
    },
    {
     "data": {
      "text/plain": [
       "Text(0.5, 0, 'Token count')"
      ]
     },
     "execution_count": 9,
     "metadata": {},
     "output_type": "execute_result"
    },
    {
     "data": {
      "image/png": "[encoded data removed]",
      "text/plain": [
       "<Figure size 640x480 with 1 Axes>"
      ]
     },
     "metadata": {},
     "output_type": "display_data"
    }
   ],
   "source": [
    "# plot the distribution of review lengths \n",
    "sns.distplot(token_lens)\n",
    "plt.xlim([0, 300]);\n",
    "plt.xlabel('Token count')"
   ]
  },
  {
   "cell_type": "code",
   "execution_count": 10,
   "id": "e5750512",
   "metadata": {},
   "outputs": [],
   "source": [
    "max_len = 270"
   ]
  },
  {
   "cell_type": "code",
   "execution_count": 11,
   "id": "d660b097",
   "metadata": {},
   "outputs": [],
   "source": [
    "from transformers import AutoTokenizer, AutoModelForSequenceClassification"
   ]
  },
  {
   "cell_type": "code",
   "execution_count": 12,
   "id": "41f92d08",
   "metadata": {},
   "outputs": [],
   "source": [
    "tokenizer = AutoTokenizer.from_pretrained('nlptown/bert-base-multilingual-uncased-sentiment')\n",
    "model = AutoModelForSequenceClassification.from_pretrained('nlptown/bert-base-multilingual-uncased-sentiment')"
   ]
  },
  {
   "cell_type": "code",
   "execution_count": 13,
   "id": "53158d4f",
   "metadata": {},
   "outputs": [],
   "source": [
    "import torch"
   ]
  },
  {
   "cell_type": "code",
   "execution_count": 14,
   "id": "8081f18e",
   "metadata": {},
   "outputs": [],
   "source": [
    "def SA(comment):\n",
    "    tokens = tokenizer.encode(comment, return_tensors='pt')\n",
    "    result  = model(tokens)\n",
    "    return int(torch.argmax(result.logits))+1"
   ]
  },
  {
   "cell_type": "code",
   "execution_count": 15,
   "id": "ef579e35",
   "metadata": {},
   "outputs": [],
   "source": [
    "df['Sentiments'] = df['Tweet'].apply(lambda x: SA(x[:max_len]))"
   ]
  },
  {
   "cell_type": "code",
   "execution_count": 16,
   "id": "eee01aa3",
   "metadata": {},
   "outputs": [],
   "source": [
    "df = df.sort_values(by=['Time'])"
   ]
  },
  {
   "cell_type": "code",
   "execution_count": 17,
   "id": "7debf537",
   "metadata": {},
   "outputs": [],
   "source": [
    "# df = df.drop(['Unnamed: 0'], axis=1)\n",
    "df = df.reset_index(drop=True)"
   ]
  },
  {
   "cell_type": "code",
   "execution_count": 18,
   "id": "fec3e80c",
   "metadata": {},
   "outputs": [
    {
     "data": {
      "text/html": [
       "<div>\n",
       "<style scoped>\n",
       "    .dataframe tbody tr th:only-of-type {\n",
       "        vertical-align: middle;\n",
       "    }\n",
       "\n",
       "    .dataframe tbody tr th {\n",
       "        vertical-align: top;\n",
       "    }\n",
       "\n",
       "    .dataframe thead th {\n",
       "        text-align: right;\n",
       "    }\n",
       "</style>\n",
       "<table border=\"1\" class=\"dataframe\">\n",
       "  <thead>\n",
       "    <tr style=\"text-align: right;\">\n",
       "      <th></th>\n",
       "      <th>Unnamed: 0</th>\n",
       "      <th>Time</th>\n",
       "      <th>User</th>\n",
       "      <th>Tweet</th>\n",
       "      <th>Sentiments</th>\n",
       "    </tr>\n",
       "  </thead>\n",
       "  <tbody>\n",
       "    <tr>\n",
       "      <th>0</th>\n",
       "      <td>1527</td>\n",
       "      <td>2023-03-30 20:17:52+00:00</td>\n",
       "      <td>mcclure_trades</td>\n",
       "      <td>Elliott Wave for select stocks and ETFs:  $MET...</td>\n",
       "      <td>5</td>\n",
       "    </tr>\n",
       "    <tr>\n",
       "      <th>1</th>\n",
       "      <td>1526</td>\n",
       "      <td>2023-03-30 20:25:03+00:00</td>\n",
       "      <td>xtrateg</td>\n",
       "      <td>📊 Resumen ESTRATEGIA: Basica1M 🅱\\n\\n💵 Efectivo...</td>\n",
       "      <td>3</td>\n",
       "    </tr>\n",
       "    <tr>\n",
       "      <th>2</th>\n",
       "      <td>1525</td>\n",
       "      <td>2023-03-30 20:33:05+00:00</td>\n",
       "      <td>day_trading_de</td>\n",
       "      <td>AVGO (Broadcom Inc.) 🚨 #Insider #stock alert! ...</td>\n",
       "      <td>1</td>\n",
       "    </tr>\n",
       "  </tbody>\n",
       "</table>\n",
       "</div>"
      ],
      "text/plain": [
       "   Unnamed: 0                       Time            User  \\\n",
       "0        1527  2023-03-30 20:17:52+00:00  mcclure_trades   \n",
       "1        1526  2023-03-30 20:25:03+00:00         xtrateg   \n",
       "2        1525  2023-03-30 20:33:05+00:00  day_trading_de   \n",
       "\n",
       "                                               Tweet  Sentiments  \n",
       "0  Elliott Wave for select stocks and ETFs:  $MET...           5  \n",
       "1  📊 Resumen ESTRATEGIA: Basica1M 🅱\\n\\n💵 Efectivo...           3  \n",
       "2  AVGO (Broadcom Inc.) 🚨 #Insider #stock alert! ...           1  "
      ]
     },
     "execution_count": 18,
     "metadata": {},
     "output_type": "execute_result"
    }
   ],
   "source": [
    "df.head(3)"
   ]
  },
  {
   "cell_type": "code",
   "execution_count": 19,
   "id": "2cb4ac8f",
   "metadata": {},
   "outputs": [
    {
     "data": {
      "text/plain": [
       "Sentiments\n",
       "5    680\n",
       "1    678\n",
       "3    127\n",
       "4     26\n",
       "2     17\n",
       "Name: count, dtype: int64"
      ]
     },
     "execution_count": 19,
     "metadata": {},
     "output_type": "execute_result"
    }
   ],
   "source": [
    "df.Sentiments.value_counts()"
   ]
  },
  {
   "cell_type": "code",
   "execution_count": 20,
   "id": "ce798a49",
   "metadata": {},
   "outputs": [
    {
     "data": {
      "text/html": [
       "<div>\n",
       "<style scoped>\n",
       "    .dataframe tbody tr th:only-of-type {\n",
       "        vertical-align: middle;\n",
       "    }\n",
       "\n",
       "    .dataframe tbody tr th {\n",
       "        vertical-align: top;\n",
       "    }\n",
       "\n",
       "    .dataframe thead th {\n",
       "        text-align: right;\n",
       "    }\n",
       "</style>\n",
       "<table border=\"1\" class=\"dataframe\">\n",
       "  <thead>\n",
       "    <tr style=\"text-align: right;\">\n",
       "      <th></th>\n",
       "      <th>Unnamed: 0</th>\n",
       "      <th>Time</th>\n",
       "      <th>User</th>\n",
       "      <th>Tweet</th>\n",
       "      <th>Sentiments</th>\n",
       "    </tr>\n",
       "  </thead>\n",
       "  <tbody>\n",
       "    <tr>\n",
       "      <th>1525</th>\n",
       "      <td>2</td>\n",
       "      <td>2023-04-08 22:45:12+00:00</td>\n",
       "      <td>ssbb8888</td>\n",
       "      <td>$AVGO اللي طلبه بالخاص اشوفه سلبي نموذج سلبي و...</td>\n",
       "      <td>3</td>\n",
       "    </tr>\n",
       "    <tr>\n",
       "      <th>1526</th>\n",
       "      <td>1</td>\n",
       "      <td>2023-04-08 22:52:06+00:00</td>\n",
       "      <td>jakestettey</td>\n",
       "      <td>RT @CollarEscape: @Smartnetworth1 $MSFT-(+709%...</td>\n",
       "      <td>1</td>\n",
       "    </tr>\n",
       "    <tr>\n",
       "      <th>1527</th>\n",
       "      <td>0</td>\n",
       "      <td>2023-04-08 22:57:26+00:00</td>\n",
       "      <td>starks2765</td>\n",
       "      <td>RT @dividendology: Has your opinion on $SCHD c...</td>\n",
       "      <td>1</td>\n",
       "    </tr>\n",
       "  </tbody>\n",
       "</table>\n",
       "</div>"
      ],
      "text/plain": [
       "      Unnamed: 0                       Time         User  \\\n",
       "1525           2  2023-04-08 22:45:12+00:00     ssbb8888   \n",
       "1526           1  2023-04-08 22:52:06+00:00  jakestettey   \n",
       "1527           0  2023-04-08 22:57:26+00:00   starks2765   \n",
       "\n",
       "                                                  Tweet  Sentiments  \n",
       "1525  $AVGO اللي طلبه بالخاص اشوفه سلبي نموذج سلبي و...           3  \n",
       "1526  RT @CollarEscape: @Smartnetworth1 $MSFT-(+709%...           1  \n",
       "1527  RT @dividendology: Has your opinion on $SCHD c...           1  "
      ]
     },
     "execution_count": 20,
     "metadata": {},
     "output_type": "execute_result"
    }
   ],
   "source": [
    "df.tail(3)"
   ]
  },
  {
   "cell_type": "code",
   "execution_count": 21,
   "id": "a84e299b",
   "metadata": {},
   "outputs": [],
   "source": [
    "start_time = df.Time[0]"
   ]
  },
  {
   "cell_type": "code",
   "execution_count": 22,
   "id": "5e581550",
   "metadata": {},
   "outputs": [],
   "source": [
    "list = [df[i:i+4] for i in range(0, len(df), 4)]"
   ]
  },
  {
   "cell_type": "code",
   "execution_count": 23,
   "id": "94e1fedf",
   "metadata": {},
   "outputs": [],
   "source": [
    "pred = []\n",
    "time = []"
   ]
  },
  {
   "cell_type": "code",
   "execution_count": 24,
   "id": "ba0fa6e8",
   "metadata": {},
   "outputs": [],
   "source": [
    "for i in range(0, len(list)):\n",
    "    avg = list[i].Sentiments.sum()/4\n",
    "    t = list[0].Time[0]\n",
    "    if avg in range(1,3):\n",
    "        pred.append('DOWN')\n",
    "        time.append(t)\n",
    "    elif avg in range(4,6):\n",
    "        pred.append('UP')\n",
    "        time.append(t)\n",
    "    elif avg == 3:\n",
    "        pred.append('NEUTRAL')\n",
    "        time.append(t)"
   ]
  },
  {
   "cell_type": "code",
   "execution_count": 25,
   "id": "182f1d24",
   "metadata": {},
   "outputs": [
    {
     "data": {
      "text/plain": [
       "'DOWN'"
      ]
     },
     "execution_count": 25,
     "metadata": {},
     "output_type": "execute_result"
    }
   ],
   "source": [
    "pred[0]"
   ]
  },
  {
   "cell_type": "code",
   "execution_count": 26,
   "id": "9d46e677",
   "metadata": {},
   "outputs": [
    {
     "data": {
      "text/plain": [
       "'2023-03-30 20:17:52+00:00'"
      ]
     },
     "execution_count": 26,
     "metadata": {},
     "output_type": "execute_result"
    }
   ],
   "source": [
    "time[0]"
   ]
  },
  {
   "cell_type": "code",
   "execution_count": 27,
   "id": "4cbfa1de",
   "metadata": {},
   "outputs": [],
   "source": [
    "dict = {'Time':time, 'Predictions':pred}"
   ]
  },
  {
   "cell_type": "code",
   "execution_count": 28,
   "id": "9e530368",
   "metadata": {},
   "outputs": [],
   "source": [
    "AVGO_df = pd.DataFrame(dict)"
   ]
  },
  {
   "cell_type": "code",
   "execution_count": 29,
   "id": "c10c01f8",
   "metadata": {},
   "outputs": [
    {
     "data": {
      "text/html": [
       "<div>\n",
       "<style scoped>\n",
       "    .dataframe tbody tr th:only-of-type {\n",
       "        vertical-align: middle;\n",
       "    }\n",
       "\n",
       "    .dataframe tbody tr th {\n",
       "        vertical-align: top;\n",
       "    }\n",
       "\n",
       "    .dataframe thead th {\n",
       "        text-align: right;\n",
       "    }\n",
       "</style>\n",
       "<table border=\"1\" class=\"dataframe\">\n",
       "  <thead>\n",
       "    <tr style=\"text-align: right;\">\n",
       "      <th></th>\n",
       "      <th>Time</th>\n",
       "      <th>Predictions</th>\n",
       "    </tr>\n",
       "  </thead>\n",
       "  <tbody>\n",
       "    <tr>\n",
       "      <th>0</th>\n",
       "      <td>2023-03-30 20:17:52+00:00</td>\n",
       "      <td>DOWN</td>\n",
       "    </tr>\n",
       "    <tr>\n",
       "      <th>1</th>\n",
       "      <td>2023-03-30 20:17:52+00:00</td>\n",
       "      <td>DOWN</td>\n",
       "    </tr>\n",
       "    <tr>\n",
       "      <th>2</th>\n",
       "      <td>2023-03-30 20:17:52+00:00</td>\n",
       "      <td>DOWN</td>\n",
       "    </tr>\n",
       "    <tr>\n",
       "      <th>3</th>\n",
       "      <td>2023-03-30 20:17:52+00:00</td>\n",
       "      <td>NEUTRAL</td>\n",
       "    </tr>\n",
       "    <tr>\n",
       "      <th>4</th>\n",
       "      <td>2023-03-30 20:17:52+00:00</td>\n",
       "      <td>DOWN</td>\n",
       "    </tr>\n",
       "    <tr>\n",
       "      <th>...</th>\n",
       "      <td>...</td>\n",
       "      <td>...</td>\n",
       "    </tr>\n",
       "    <tr>\n",
       "      <th>267</th>\n",
       "      <td>2023-03-30 20:17:52+00:00</td>\n",
       "      <td>UP</td>\n",
       "    </tr>\n",
       "    <tr>\n",
       "      <th>268</th>\n",
       "      <td>2023-03-30 20:17:52+00:00</td>\n",
       "      <td>DOWN</td>\n",
       "    </tr>\n",
       "    <tr>\n",
       "      <th>269</th>\n",
       "      <td>2023-03-30 20:17:52+00:00</td>\n",
       "      <td>NEUTRAL</td>\n",
       "    </tr>\n",
       "    <tr>\n",
       "      <th>270</th>\n",
       "      <td>2023-03-30 20:17:52+00:00</td>\n",
       "      <td>UP</td>\n",
       "    </tr>\n",
       "    <tr>\n",
       "      <th>271</th>\n",
       "      <td>2023-03-30 20:17:52+00:00</td>\n",
       "      <td>DOWN</td>\n",
       "    </tr>\n",
       "  </tbody>\n",
       "</table>\n",
       "<p>272 rows × 2 columns</p>\n",
       "</div>"
      ],
      "text/plain": [
       "                          Time Predictions\n",
       "0    2023-03-30 20:17:52+00:00        DOWN\n",
       "1    2023-03-30 20:17:52+00:00        DOWN\n",
       "2    2023-03-30 20:17:52+00:00        DOWN\n",
       "3    2023-03-30 20:17:52+00:00     NEUTRAL\n",
       "4    2023-03-30 20:17:52+00:00        DOWN\n",
       "..                         ...         ...\n",
       "267  2023-03-30 20:17:52+00:00          UP\n",
       "268  2023-03-30 20:17:52+00:00        DOWN\n",
       "269  2023-03-30 20:17:52+00:00     NEUTRAL\n",
       "270  2023-03-30 20:17:52+00:00          UP\n",
       "271  2023-03-30 20:17:52+00:00        DOWN\n",
       "\n",
       "[272 rows x 2 columns]"
      ]
     },
     "execution_count": 29,
     "metadata": {},
     "output_type": "execute_result"
    }
   ],
   "source": [
    "AVGO_df"
   ]
  },
  {
   "cell_type": "code",
   "execution_count": 30,
   "id": "d923c89f",
   "metadata": {},
   "outputs": [],
   "source": [
    "import time"
   ]
  },
  {
   "cell_type": "code",
   "execution_count": 31,
   "id": "b8245dd8",
   "metadata": {},
   "outputs": [
    {
     "name": "stdout",
     "output_type": "stream",
     "text": [
      "Date & Time : 2023-03-30 20:17:52+00:00   Prediction : DOWN\n",
      "Date & Time : 2023-03-30 20:17:52+00:00   Prediction : DOWN\n",
      "Date & Time : 2023-03-30 20:17:52+00:00   Prediction : DOWN\n",
      "Date & Time : 2023-03-30 20:17:52+00:00   Prediction : NEUTRAL\n",
      "Date & Time : 2023-03-30 20:17:52+00:00   Prediction : DOWN\n",
      "Date & Time : 2023-03-30 20:17:52+00:00   Prediction : DOWN\n",
      "Date & Time : 2023-03-30 20:17:52+00:00   Prediction : NEUTRAL\n",
      "Date & Time : 2023-03-30 20:17:52+00:00   Prediction : NEUTRAL\n",
      "Date & Time : 2023-03-30 20:17:52+00:00   Prediction : UP\n",
      "Date & Time : 2023-03-30 20:17:52+00:00   Prediction : NEUTRAL\n",
      "Date & Time : 2023-03-30 20:17:52+00:00   Prediction : DOWN\n",
      "Date & Time : 2023-03-30 20:17:52+00:00   Prediction : UP\n",
      "Date & Time : 2023-03-30 20:17:52+00:00   Prediction : UP\n",
      "Date & Time : 2023-03-30 20:17:52+00:00   Prediction : UP\n",
      "Date & Time : 2023-03-30 20:17:52+00:00   Prediction : NEUTRAL\n",
      "Date & Time : 2023-03-30 20:17:52+00:00   Prediction : DOWN\n",
      "Date & Time : 2023-03-30 20:17:52+00:00   Prediction : UP\n",
      "Date & Time : 2023-03-30 20:17:52+00:00   Prediction : UP\n",
      "Date & Time : 2023-03-30 20:17:52+00:00   Prediction : NEUTRAL\n",
      "Date & Time : 2023-03-30 20:17:52+00:00   Prediction : UP\n",
      "Date & Time : 2023-03-30 20:17:52+00:00   Prediction : UP\n",
      "Date & Time : 2023-03-30 20:17:52+00:00   Prediction : UP\n",
      "Date & Time : 2023-03-30 20:17:52+00:00   Prediction : UP\n",
      "Date & Time : 2023-03-30 20:17:52+00:00   Prediction : UP\n",
      "Date & Time : 2023-03-30 20:17:52+00:00   Prediction : UP\n",
      "Date & Time : 2023-03-30 20:17:52+00:00   Prediction : NEUTRAL\n",
      "Date & Time : 2023-03-30 20:17:52+00:00   Prediction : NEUTRAL\n",
      "Date & Time : 2023-03-30 20:17:52+00:00   Prediction : UP\n",
      "Date & Time : 2023-03-30 20:17:52+00:00   Prediction : UP\n",
      "Date & Time : 2023-03-30 20:17:52+00:00   Prediction : NEUTRAL\n",
      "Date & Time : 2023-03-30 20:17:52+00:00   Prediction : UP\n",
      "Date & Time : 2023-03-30 20:17:52+00:00   Prediction : UP\n",
      "Date & Time : 2023-03-30 20:17:52+00:00   Prediction : NEUTRAL\n",
      "Date & Time : 2023-03-30 20:17:52+00:00   Prediction : UP\n",
      "Date & Time : 2023-03-30 20:17:52+00:00   Prediction : UP\n",
      "Date & Time : 2023-03-30 20:17:52+00:00   Prediction : UP\n",
      "Date & Time : 2023-03-30 20:17:52+00:00   Prediction : UP\n",
      "Date & Time : 2023-03-30 20:17:52+00:00   Prediction : UP\n",
      "Date & Time : 2023-03-30 20:17:52+00:00   Prediction : UP\n",
      "Date & Time : 2023-03-30 20:17:52+00:00   Prediction : DOWN\n",
      "Date & Time : 2023-03-30 20:17:52+00:00   Prediction : NEUTRAL\n",
      "Date & Time : 2023-03-30 20:17:52+00:00   Prediction : UP\n",
      "Date & Time : 2023-03-30 20:17:52+00:00   Prediction : UP\n",
      "Date & Time : 2023-03-30 20:17:52+00:00   Prediction : NEUTRAL\n",
      "Date & Time : 2023-03-30 20:17:52+00:00   Prediction : UP\n",
      "Date & Time : 2023-03-30 20:17:52+00:00   Prediction : NEUTRAL\n",
      "Date & Time : 2023-03-30 20:17:52+00:00   Prediction : UP\n",
      "Date & Time : 2023-03-30 20:17:52+00:00   Prediction : UP\n",
      "Date & Time : 2023-03-30 20:17:52+00:00   Prediction : UP\n",
      "Date & Time : 2023-03-30 20:17:52+00:00   Prediction : UP\n",
      "Date & Time : 2023-03-30 20:17:52+00:00   Prediction : UP\n",
      "Date & Time : 2023-03-30 20:17:52+00:00   Prediction : UP\n",
      "Date & Time : 2023-03-30 20:17:52+00:00   Prediction : UP\n",
      "Date & Time : 2023-03-30 20:17:52+00:00   Prediction : NEUTRAL\n",
      "Date & Time : 2023-03-30 20:17:52+00:00   Prediction : UP\n",
      "Date & Time : 2023-03-30 20:17:52+00:00   Prediction : NEUTRAL\n",
      "Date & Time : 2023-03-30 20:17:52+00:00   Prediction : UP\n",
      "Date & Time : 2023-03-30 20:17:52+00:00   Prediction : NEUTRAL\n",
      "Date & Time : 2023-03-30 20:17:52+00:00   Prediction : NEUTRAL\n",
      "Date & Time : 2023-03-30 20:17:52+00:00   Prediction : NEUTRAL\n",
      "Date & Time : 2023-03-30 20:17:52+00:00   Prediction : UP\n",
      "Date & Time : 2023-03-30 20:17:52+00:00   Prediction : DOWN\n",
      "Date & Time : 2023-03-30 20:17:52+00:00   Prediction : DOWN\n",
      "Date & Time : 2023-03-30 20:17:52+00:00   Prediction : DOWN\n",
      "Date & Time : 2023-03-30 20:17:52+00:00   Prediction : NEUTRAL\n",
      "Date & Time : 2023-03-30 20:17:52+00:00   Prediction : NEUTRAL\n",
      "Date & Time : 2023-03-30 20:17:52+00:00   Prediction : DOWN\n",
      "Date & Time : 2023-03-30 20:17:52+00:00   Prediction : UP\n",
      "Date & Time : 2023-03-30 20:17:52+00:00   Prediction : UP\n",
      "Date & Time : 2023-03-30 20:17:52+00:00   Prediction : NEUTRAL\n",
      "Date & Time : 2023-03-30 20:17:52+00:00   Prediction : NEUTRAL\n",
      "Date & Time : 2023-03-30 20:17:52+00:00   Prediction : NEUTRAL\n",
      "Date & Time : 2023-03-30 20:17:52+00:00   Prediction : NEUTRAL\n",
      "Date & Time : 2023-03-30 20:17:52+00:00   Prediction : DOWN\n",
      "Date & Time : 2023-03-30 20:17:52+00:00   Prediction : DOWN\n",
      "Date & Time : 2023-03-30 20:17:52+00:00   Prediction : DOWN\n",
      "Date & Time : 2023-03-30 20:17:52+00:00   Prediction : NEUTRAL\n",
      "Date & Time : 2023-03-30 20:17:52+00:00   Prediction : NEUTRAL\n",
      "Date & Time : 2023-03-30 20:17:52+00:00   Prediction : DOWN\n",
      "Date & Time : 2023-03-30 20:17:52+00:00   Prediction : DOWN\n",
      "Date & Time : 2023-03-30 20:17:52+00:00   Prediction : NEUTRAL\n",
      "Date & Time : 2023-03-30 20:17:52+00:00   Prediction : DOWN\n",
      "Date & Time : 2023-03-30 20:17:52+00:00   Prediction : DOWN\n",
      "Date & Time : 2023-03-30 20:17:52+00:00   Prediction : DOWN\n",
      "Date & Time : 2023-03-30 20:17:52+00:00   Prediction : NEUTRAL\n",
      "Date & Time : 2023-03-30 20:17:52+00:00   Prediction : UP\n",
      "Date & Time : 2023-03-30 20:17:52+00:00   Prediction : UP\n",
      "Date & Time : 2023-03-30 20:17:52+00:00   Prediction : DOWN\n",
      "Date & Time : 2023-03-30 20:17:52+00:00   Prediction : NEUTRAL\n",
      "Date & Time : 2023-03-30 20:17:52+00:00   Prediction : DOWN\n",
      "Date & Time : 2023-03-30 20:17:52+00:00   Prediction : DOWN\n",
      "Date & Time : 2023-03-30 20:17:52+00:00   Prediction : UP\n",
      "Date & Time : 2023-03-30 20:17:52+00:00   Prediction : UP\n",
      "Date & Time : 2023-03-30 20:17:52+00:00   Prediction : UP\n",
      "Date & Time : 2023-03-30 20:17:52+00:00   Prediction : UP\n",
      "Date & Time : 2023-03-30 20:17:52+00:00   Prediction : UP\n",
      "Date & Time : 2023-03-30 20:17:52+00:00   Prediction : NEUTRAL\n",
      "Date & Time : 2023-03-30 20:17:52+00:00   Prediction : UP\n",
      "Date & Time : 2023-03-30 20:17:52+00:00   Prediction : NEUTRAL\n",
      "Date & Time : 2023-03-30 20:17:52+00:00   Prediction : UP\n",
      "Date & Time : 2023-03-30 20:17:52+00:00   Prediction : UP\n",
      "Date & Time : 2023-03-30 20:17:52+00:00   Prediction : DOWN\n",
      "Date & Time : 2023-03-30 20:17:52+00:00   Prediction : UP\n",
      "Date & Time : 2023-03-30 20:17:52+00:00   Prediction : UP\n",
      "Date & Time : 2023-03-30 20:17:52+00:00   Prediction : DOWN\n",
      "Date & Time : 2023-03-30 20:17:52+00:00   Prediction : NEUTRAL\n",
      "Date & Time : 2023-03-30 20:17:52+00:00   Prediction : DOWN\n",
      "Date & Time : 2023-03-30 20:17:52+00:00   Prediction : UP\n",
      "Date & Time : 2023-03-30 20:17:52+00:00   Prediction : NEUTRAL\n",
      "Date & Time : 2023-03-30 20:17:52+00:00   Prediction : DOWN\n",
      "Date & Time : 2023-03-30 20:17:52+00:00   Prediction : NEUTRAL\n",
      "Date & Time : 2023-03-30 20:17:52+00:00   Prediction : DOWN\n",
      "Date & Time : 2023-03-30 20:17:52+00:00   Prediction : NEUTRAL\n",
      "Date & Time : 2023-03-30 20:17:52+00:00   Prediction : NEUTRAL\n",
      "Date & Time : 2023-03-30 20:17:52+00:00   Prediction : NEUTRAL\n",
      "Date & Time : 2023-03-30 20:17:52+00:00   Prediction : DOWN\n",
      "Date & Time : 2023-03-30 20:17:52+00:00   Prediction : NEUTRAL\n",
      "Date & Time : 2023-03-30 20:17:52+00:00   Prediction : DOWN\n",
      "Date & Time : 2023-03-30 20:17:52+00:00   Prediction : NEUTRAL\n",
      "Date & Time : 2023-03-30 20:17:52+00:00   Prediction : UP\n",
      "Date & Time : 2023-03-30 20:17:52+00:00   Prediction : NEUTRAL\n",
      "Date & Time : 2023-03-30 20:17:52+00:00   Prediction : NEUTRAL\n",
      "Date & Time : 2023-03-30 20:17:52+00:00   Prediction : NEUTRAL\n",
      "Date & Time : 2023-03-30 20:17:52+00:00   Prediction : UP\n",
      "Date & Time : 2023-03-30 20:17:52+00:00   Prediction : DOWN\n",
      "Date & Time : 2023-03-30 20:17:52+00:00   Prediction : NEUTRAL\n",
      "Date & Time : 2023-03-30 20:17:52+00:00   Prediction : DOWN\n",
      "Date & Time : 2023-03-30 20:17:52+00:00   Prediction : DOWN\n",
      "Date & Time : 2023-03-30 20:17:52+00:00   Prediction : NEUTRAL\n",
      "Date & Time : 2023-03-30 20:17:52+00:00   Prediction : DOWN\n",
      "Date & Time : 2023-03-30 20:17:52+00:00   Prediction : DOWN\n",
      "Date & Time : 2023-03-30 20:17:52+00:00   Prediction : UP\n",
      "Date & Time : 2023-03-30 20:17:52+00:00   Prediction : NEUTRAL\n",
      "Date & Time : 2023-03-30 20:17:52+00:00   Prediction : NEUTRAL\n",
      "Date & Time : 2023-03-30 20:17:52+00:00   Prediction : NEUTRAL\n",
      "Date & Time : 2023-03-30 20:17:52+00:00   Prediction : DOWN\n"
     ]
    },
    {
     "name": "stdout",
     "output_type": "stream",
     "text": [
      "Date & Time : 2023-03-30 20:17:52+00:00   Prediction : DOWN\n",
      "Date & Time : 2023-03-30 20:17:52+00:00   Prediction : DOWN\n",
      "Date & Time : 2023-03-30 20:17:52+00:00   Prediction : DOWN\n",
      "Date & Time : 2023-03-30 20:17:52+00:00   Prediction : DOWN\n",
      "Date & Time : 2023-03-30 20:17:52+00:00   Prediction : NEUTRAL\n",
      "Date & Time : 2023-03-30 20:17:52+00:00   Prediction : UP\n",
      "Date & Time : 2023-03-30 20:17:52+00:00   Prediction : NEUTRAL\n",
      "Date & Time : 2023-03-30 20:17:52+00:00   Prediction : UP\n",
      "Date & Time : 2023-03-30 20:17:52+00:00   Prediction : NEUTRAL\n",
      "Date & Time : 2023-03-30 20:17:52+00:00   Prediction : DOWN\n",
      "Date & Time : 2023-03-30 20:17:52+00:00   Prediction : UP\n",
      "Date & Time : 2023-03-30 20:17:52+00:00   Prediction : UP\n",
      "Date & Time : 2023-03-30 20:17:52+00:00   Prediction : UP\n",
      "Date & Time : 2023-03-30 20:17:52+00:00   Prediction : DOWN\n",
      "Date & Time : 2023-03-30 20:17:52+00:00   Prediction : DOWN\n",
      "Date & Time : 2023-03-30 20:17:52+00:00   Prediction : NEUTRAL\n",
      "Date & Time : 2023-03-30 20:17:52+00:00   Prediction : DOWN\n",
      "Date & Time : 2023-03-30 20:17:52+00:00   Prediction : UP\n",
      "Date & Time : 2023-03-30 20:17:52+00:00   Prediction : UP\n",
      "Date & Time : 2023-03-30 20:17:52+00:00   Prediction : NEUTRAL\n",
      "Date & Time : 2023-03-30 20:17:52+00:00   Prediction : NEUTRAL\n",
      "Date & Time : 2023-03-30 20:17:52+00:00   Prediction : NEUTRAL\n",
      "Date & Time : 2023-03-30 20:17:52+00:00   Prediction : NEUTRAL\n",
      "Date & Time : 2023-03-30 20:17:52+00:00   Prediction : DOWN\n",
      "Date & Time : 2023-03-30 20:17:52+00:00   Prediction : NEUTRAL\n",
      "Date & Time : 2023-03-30 20:17:52+00:00   Prediction : UP\n",
      "Date & Time : 2023-03-30 20:17:52+00:00   Prediction : UP\n",
      "Date & Time : 2023-03-30 20:17:52+00:00   Prediction : UP\n",
      "Date & Time : 2023-03-30 20:17:52+00:00   Prediction : NEUTRAL\n",
      "Date & Time : 2023-03-30 20:17:52+00:00   Prediction : NEUTRAL\n",
      "Date & Time : 2023-03-30 20:17:52+00:00   Prediction : NEUTRAL\n",
      "Date & Time : 2023-03-30 20:17:52+00:00   Prediction : UP\n",
      "Date & Time : 2023-03-30 20:17:52+00:00   Prediction : NEUTRAL\n",
      "Date & Time : 2023-03-30 20:17:52+00:00   Prediction : UP\n",
      "Date & Time : 2023-03-30 20:17:52+00:00   Prediction : NEUTRAL\n",
      "Date & Time : 2023-03-30 20:17:52+00:00   Prediction : NEUTRAL\n",
      "Date & Time : 2023-03-30 20:17:52+00:00   Prediction : UP\n",
      "Date & Time : 2023-03-30 20:17:52+00:00   Prediction : NEUTRAL\n",
      "Date & Time : 2023-03-30 20:17:52+00:00   Prediction : UP\n",
      "Date & Time : 2023-03-30 20:17:52+00:00   Prediction : DOWN\n",
      "Date & Time : 2023-03-30 20:17:52+00:00   Prediction : DOWN\n",
      "Date & Time : 2023-03-30 20:17:52+00:00   Prediction : NEUTRAL\n",
      "Date & Time : 2023-03-30 20:17:52+00:00   Prediction : DOWN\n",
      "Date & Time : 2023-03-30 20:17:52+00:00   Prediction : DOWN\n",
      "Date & Time : 2023-03-30 20:17:52+00:00   Prediction : NEUTRAL\n",
      "Date & Time : 2023-03-30 20:17:52+00:00   Prediction : NEUTRAL\n",
      "Date & Time : 2023-03-30 20:17:52+00:00   Prediction : DOWN\n",
      "Date & Time : 2023-03-30 20:17:52+00:00   Prediction : DOWN\n",
      "Date & Time : 2023-03-30 20:17:52+00:00   Prediction : NEUTRAL\n",
      "Date & Time : 2023-03-30 20:17:52+00:00   Prediction : NEUTRAL\n",
      "Date & Time : 2023-03-30 20:17:52+00:00   Prediction : NEUTRAL\n",
      "Date & Time : 2023-03-30 20:17:52+00:00   Prediction : UP\n",
      "Date & Time : 2023-03-30 20:17:52+00:00   Prediction : NEUTRAL\n",
      "Date & Time : 2023-03-30 20:17:52+00:00   Prediction : DOWN\n",
      "Date & Time : 2023-03-30 20:17:52+00:00   Prediction : DOWN\n",
      "Date & Time : 2023-03-30 20:17:52+00:00   Prediction : NEUTRAL\n",
      "Date & Time : 2023-03-30 20:17:52+00:00   Prediction : UP\n",
      "Date & Time : 2023-03-30 20:17:52+00:00   Prediction : DOWN\n",
      "Date & Time : 2023-03-30 20:17:52+00:00   Prediction : DOWN\n",
      "Date & Time : 2023-03-30 20:17:52+00:00   Prediction : DOWN\n",
      "Date & Time : 2023-03-30 20:17:52+00:00   Prediction : UP\n",
      "Date & Time : 2023-03-30 20:17:52+00:00   Prediction : DOWN\n",
      "Date & Time : 2023-03-30 20:17:52+00:00   Prediction : DOWN\n",
      "Date & Time : 2023-03-30 20:17:52+00:00   Prediction : UP\n",
      "Date & Time : 2023-03-30 20:17:52+00:00   Prediction : UP\n",
      "Date & Time : 2023-03-30 20:17:52+00:00   Prediction : UP\n",
      "Date & Time : 2023-03-30 20:17:52+00:00   Prediction : UP\n",
      "Date & Time : 2023-03-30 20:17:52+00:00   Prediction : NEUTRAL\n",
      "Date & Time : 2023-03-30 20:17:52+00:00   Prediction : NEUTRAL\n",
      "Date & Time : 2023-03-30 20:17:52+00:00   Prediction : NEUTRAL\n",
      "Date & Time : 2023-03-30 20:17:52+00:00   Prediction : UP\n",
      "Date & Time : 2023-03-30 20:17:52+00:00   Prediction : UP\n",
      "Date & Time : 2023-03-30 20:17:52+00:00   Prediction : DOWN\n",
      "Date & Time : 2023-03-30 20:17:52+00:00   Prediction : DOWN\n",
      "Date & Time : 2023-03-30 20:17:52+00:00   Prediction : UP\n",
      "Date & Time : 2023-03-30 20:17:52+00:00   Prediction : NEUTRAL\n",
      "Date & Time : 2023-03-30 20:17:52+00:00   Prediction : DOWN\n",
      "Date & Time : 2023-03-30 20:17:52+00:00   Prediction : DOWN\n",
      "Date & Time : 2023-03-30 20:17:52+00:00   Prediction : DOWN\n",
      "Date & Time : 2023-03-30 20:17:52+00:00   Prediction : NEUTRAL\n",
      "Date & Time : 2023-03-30 20:17:52+00:00   Prediction : NEUTRAL\n",
      "Date & Time : 2023-03-30 20:17:52+00:00   Prediction : UP\n",
      "Date & Time : 2023-03-30 20:17:52+00:00   Prediction : DOWN\n",
      "Date & Time : 2023-03-30 20:17:52+00:00   Prediction : NEUTRAL\n",
      "Date & Time : 2023-03-30 20:17:52+00:00   Prediction : NEUTRAL\n",
      "Date & Time : 2023-03-30 20:17:52+00:00   Prediction : UP\n",
      "Date & Time : 2023-03-30 20:17:52+00:00   Prediction : DOWN\n",
      "Date & Time : 2023-03-30 20:17:52+00:00   Prediction : DOWN\n",
      "Date & Time : 2023-03-30 20:17:52+00:00   Prediction : DOWN\n",
      "Date & Time : 2023-03-30 20:17:52+00:00   Prediction : DOWN\n",
      "Date & Time : 2023-03-30 20:17:52+00:00   Prediction : NEUTRAL\n",
      "Date & Time : 2023-03-30 20:17:52+00:00   Prediction : NEUTRAL\n",
      "Date & Time : 2023-03-30 20:17:52+00:00   Prediction : DOWN\n",
      "Date & Time : 2023-03-30 20:17:52+00:00   Prediction : NEUTRAL\n",
      "Date & Time : 2023-03-30 20:17:52+00:00   Prediction : DOWN\n",
      "Date & Time : 2023-03-30 20:17:52+00:00   Prediction : DOWN\n",
      "Date & Time : 2023-03-30 20:17:52+00:00   Prediction : DOWN\n",
      "Date & Time : 2023-03-30 20:17:52+00:00   Prediction : NEUTRAL\n",
      "Date & Time : 2023-03-30 20:17:52+00:00   Prediction : NEUTRAL\n",
      "Date & Time : 2023-03-30 20:17:52+00:00   Prediction : DOWN\n",
      "Date & Time : 2023-03-30 20:17:52+00:00   Prediction : UP\n",
      "Date & Time : 2023-03-30 20:17:52+00:00   Prediction : DOWN\n",
      "Date & Time : 2023-03-30 20:17:52+00:00   Prediction : NEUTRAL\n",
      "Date & Time : 2023-03-30 20:17:52+00:00   Prediction : DOWN\n",
      "Date & Time : 2023-03-30 20:17:52+00:00   Prediction : NEUTRAL\n",
      "Date & Time : 2023-03-30 20:17:52+00:00   Prediction : UP\n",
      "Date & Time : 2023-03-30 20:17:52+00:00   Prediction : UP\n",
      "Date & Time : 2023-03-30 20:17:52+00:00   Prediction : NEUTRAL\n",
      "Date & Time : 2023-03-30 20:17:52+00:00   Prediction : NEUTRAL\n",
      "Date & Time : 2023-03-30 20:17:52+00:00   Prediction : UP\n",
      "Date & Time : 2023-03-30 20:17:52+00:00   Prediction : UP\n",
      "Date & Time : 2023-03-30 20:17:52+00:00   Prediction : NEUTRAL\n",
      "Date & Time : 2023-03-30 20:17:52+00:00   Prediction : DOWN\n",
      "Date & Time : 2023-03-30 20:17:52+00:00   Prediction : UP\n",
      "Date & Time : 2023-03-30 20:17:52+00:00   Prediction : UP\n",
      "Date & Time : 2023-03-30 20:17:52+00:00   Prediction : UP\n",
      "Date & Time : 2023-03-30 20:17:52+00:00   Prediction : UP\n",
      "Date & Time : 2023-03-30 20:17:52+00:00   Prediction : UP\n",
      "Date & Time : 2023-03-30 20:17:52+00:00   Prediction : UP\n",
      "Date & Time : 2023-03-30 20:17:52+00:00   Prediction : DOWN\n",
      "Date & Time : 2023-03-30 20:17:52+00:00   Prediction : DOWN\n",
      "Date & Time : 2023-03-30 20:17:52+00:00   Prediction : UP\n",
      "Date & Time : 2023-03-30 20:17:52+00:00   Prediction : NEUTRAL\n",
      "Date & Time : 2023-03-30 20:17:52+00:00   Prediction : NEUTRAL\n",
      "Date & Time : 2023-03-30 20:17:52+00:00   Prediction : DOWN\n",
      "Date & Time : 2023-03-30 20:17:52+00:00   Prediction : NEUTRAL\n",
      "Date & Time : 2023-03-30 20:17:52+00:00   Prediction : UP\n",
      "Date & Time : 2023-03-30 20:17:52+00:00   Prediction : UP\n",
      "Date & Time : 2023-03-30 20:17:52+00:00   Prediction : UP\n",
      "Date & Time : 2023-03-30 20:17:52+00:00   Prediction : DOWN\n",
      "Date & Time : 2023-03-30 20:17:52+00:00   Prediction : UP\n",
      "Date & Time : 2023-03-30 20:17:52+00:00   Prediction : UP\n",
      "Date & Time : 2023-03-30 20:17:52+00:00   Prediction : DOWN\n",
      "Date & Time : 2023-03-30 20:17:52+00:00   Prediction : NEUTRAL\n",
      "Date & Time : 2023-03-30 20:17:52+00:00   Prediction : UP\n",
      "Date & Time : 2023-03-30 20:17:52+00:00   Prediction : DOWN\n"
     ]
    }
   ],
   "source": [
    "for i in range(0, len(AVGO_df)):\n",
    "    print(f'Date & Time : {AVGO_df.Time[i]}   Prediction : {AVGO_df.Predictions[i]}')\n",
    "    time.sleep(3)"
   ]
  },
  {
   "cell_type": "code",
   "execution_count": null,
   "id": "7ed3ca35",
   "metadata": {},
   "outputs": [],
   "source": []
  }
 ],
 "metadata": {
  "kernelspec": {
   "display_name": "Python 3 (ipykernel)",
   "language": "python",
   "name": "python3"
  },
  "language_info": {
   "codemirror_mode": {
    "name": "ipython",
    "version": 3
   },
   "file_extension": ".py",
   "mimetype": "text/x-python",
   "name": "python",
   "nbconvert_exporter": "python",
   "pygments_lexer": "ipython3",
   "version": "3.11.4"
  }
 },
 "nbformat": 4,
 "nbformat_minor": 5
}
